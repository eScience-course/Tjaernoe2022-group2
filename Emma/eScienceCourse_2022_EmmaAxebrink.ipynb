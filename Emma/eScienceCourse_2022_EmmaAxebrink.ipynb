{
 "cells": [
  {
   "cell_type": "markdown",
   "id": "8f28ec50-05b1-4ff1-bf00-b130f4995787",
   "metadata": {
    "tags": []
   },
   "source": [
    "# Ozone response in a model with and without interactive stratospheric chemistry\n",
    "## Emma Axebrink\n",
    "emma.axebrink@nuclear.lu.se\n",
    "\n",
    "#### eScience Tools in Climate Science: Linking Observations with Modelling \n",
    "\n",
    "Assistant: Zhihong Zhuo <br>\n",
    "zhihong.zhuo@geo.uio.no <br>\n",
    "14 November 2022"
   ]
  },
  {
   "cell_type": "markdown",
   "id": "8d4a3a1c-b1e8-419f-bf7a-5ce15aaa57ba",
   "metadata": {},
   "source": [
    "# Abstract"
   ]
  },
  {
   "cell_type": "markdown",
   "id": "658658ba-3690-4242-a90d-d04385c97fc3",
   "metadata": {},
   "source": [
    "# Introduction"
   ]
  },
  {
   "cell_type": "markdown",
   "id": "8bae8e21-4807-4f27-80be-5a0051d6f1b1",
   "metadata": {},
   "source": [
    "- Why am i studying this topic\n",
    "To run a model can cost a lot of computational power and therefore it is not always desirable to include all calculations in a model. If the interest of a variable lies at the surface, a model without interactiv stratospheric chemistry might be preferred since the computation in recuced compared to a model with interactive stratospheric chemistry. The downside of using a smaller model might however be that some variables are not responding as expected. This work aims to investigate this potential downside. More specifically; investigate the response to a volcanic eruption by looking at the ozone, AOD (Aerosol Optical Thickness) and temperature of two models. One with interactive stratospheric chemistry and one without.\n",
    "\n",
    "- What is done in this notebook?\n",
    "\n",
    "- Some background (on models and observations) and underlying theory (check for 2-3 papers with assistants and teachers if needed)\n",
    "- Present equations if needed (Latex)\n",
    "In this work the ozone in dobson unit is calculate from mol/mol with the following equations:\n",
    "\n",
    "\n",
    "O3_mmm = O3_vmm*(48.0/28.94)\n",
    "\n",
    "g=9.81\n",
    "Plevi = ds.plev\n",
    "\n",
    "dp = np.empty(shape=O3_vmm.shape)\n",
    "\n",
    "dpa=xr.DataArray(dp,coords=ds.o3.coords,dims=ds.o3.dims)\n",
    "\n",
    "for i in range(1,Plevi.shape[0]):\n",
    "    dpa[dict(plev=i-1)]=-(Plevi[i]-Plevi[i-1])\n",
    "    \n",
    "O3_t=O3_mmm*dpa/g\n",
    "\n",
    "totO3=O3_t.sum(dim='plev')\n",
    "\n",
    "totO3DU = totO3/2.1415e-5\n"
   ]
  },
  {
   "cell_type": "markdown",
   "id": "3a3e6108-9a1d-4a2d-b9de-dc6d3216ad10",
   "metadata": {},
   "source": [
    "## Research questions"
   ]
  },
  {
   "cell_type": "markdown",
   "id": "cb2e3fbe-0876-4f00-be15-a228bd07c9fc",
   "metadata": {},
   "source": [
    "- How does ozone respond in a model with and without interactive stratospheric chemistry?\n",
    "- Is the ozone response to volcanic eruptions amplified in the polar region?\n",
    "- How does temperature respond in a model with and without interactive stratospheric chemistry? \n",
    "- How does AOD (Aerosol Optical Thickness) respond in a model with and without interactive stratospheric chemistry?\n"
   ]
  },
  {
   "cell_type": "markdown",
   "id": "1fb753ac-b3bb-4da1-80b2-65ad80028bef",
   "metadata": {},
   "source": [
    "# Method"
   ]
  },
  {
   "cell_type": "markdown",
   "id": "5b0686be-dbf7-411c-b8d9-b1d8af950d14",
   "metadata": {},
   "source": [
    "## Packages used"
   ]
  },
  {
   "cell_type": "code",
   "execution_count": 1,
   "id": "b05ebbde-e7b1-471d-8058-66ce853e1f85",
   "metadata": {},
   "outputs": [],
   "source": [
    "import xarray as xr\n",
    "xr.set_options(display_style='html')\n",
    "import intake\n",
    "import cftime\n",
    "import matplotlib.pyplot as plt\n",
    "import cartopy.crs as ccrs\n",
    "import numpy as np\n",
    "from dask.distributed import Client\n",
    "import pprint\n",
    "# My funcions\n",
    "#%run /home/jovyan/escience-2022/Tjaernoe2022-group2/Emma/func.ipynb\n",
    "#%run /home/jovyan/escience-2022/Tjaernoe2022-group2/Emma/CMIP6_func.ipynb\n",
    "from eScienceCourse_2022_EmmaAxebrink_functions import *\n",
    "#from func import *\n",
    "%matplotlib inline\n",
    "%load_ext autoreload\n",
    "%autoreload 2"
   ]
  },
  {
   "cell_type": "markdown",
   "id": "789aca72-7d1a-4a62-93a2-e02378d05ac9",
   "metadata": {},
   "source": [
    "## Datasets \n",
    "**CMIP6 models**\n",
    "CMIP6 is the sixth generation of the Coupeld Model Intercomparison Project, consisting of multiple models and a total of around one hundred runs.\n",
    "In this report three historical runs of CESM2 CAM and CESM2 WACCM, six in total, have been chosen to investigate a model with and without interactive stratospheric chemistry. CAM does not have interactive stratospheric chemistry, i.e CAM utilise a prescribed stratosphere which is obtained by calculating the 5-day zonal-mean for each year over the years 1850-2014 [[1]]CMIP6 models \n",
    "CMIP 6 is the sixth generation of the Coupeld Model Intercomparison Project, consisting of multiple models and a total of around one hundred runs. In this work three historical runs of CESM2 CAM and three historical runs of CESM2 WACCM, six in total, have been chosen to investigate a model with and without interactive stratospheric chemistry. CAM does not have interactive stratospheric chemistry, i.e CAM utilise a prescribed stratosphere which is obtained by calculating the 5-day zonal-mean for each year over the years 1850-2014 [[1]].\n",
    "The three runs for each model have the member id r1i1p1f1 ,r2i1p1f1 and r3i1p1f1. \n",
    "The variables investigated were o3, od550aer and ta, i.e. ozone, ambient aerosol optical thickness at 550nm and temperature. The time range for these two models are monthly averages from 1850 to 2014 but only two subsets of eleven years have been used, namely January 1986 to December 1996. ################## **what else?!** ##################\n",
    "\n",
    "\n",
    "\n",
    "[1]: https://agupubs.onlinelibrary.wiley.com/doi/10.1029/2019MS001916\n",
    "*For the CESM2(CAM6) historical simulations, 5-day zonal-mean values were calculated for each year over the 1850–2014 historical period from the average of the three CESM2(WACCM6) historical ensemble members. The 5-day frequency allows resolution of the impacts of major volcanic eruptions, as well as the annual development of polar ozone loss (Neely et al., 2014). The averaging of three CESM2(WACCM6) historical ensemble members is especially important to the evolution of stratospheric aerosol resulting from volcanic eruptions, which can be particularly sensitive to the circulation present at the time of the eruption*"
   ]
  },
  {
   "cell_type": "markdown",
   "id": "ecfaeec9-1b07-4f2e-8d6d-b60c86998123",
   "metadata": {},
   "source": [
    "Since the datasets are large and take some time to load Dask is used to speed the process up by parallel computing"
   ]
  },
  {
   "cell_type": "code",
   "execution_count": 2,
   "id": "baed1615-1888-472d-88cb-ba7cb013d9ca",
   "metadata": {},
   "outputs": [
    {
     "data": {
      "text/html": [
       "<div>\n",
       "    <div style=\"width: 24px; height: 24px; background-color: #e1e1e1; border: 3px solid #9D9D9D; border-radius: 5px; position: absolute;\"> </div>\n",
       "    <div style=\"margin-left: 48px;\">\n",
       "        <h3 style=\"margin-bottom: 0px;\">Client</h3>\n",
       "        <p style=\"color: #9D9D9D; margin-bottom: 0px;\">Client-dff3ea46-641c-11ed-8745-eabc9f6f8360</p>\n",
       "        <table style=\"width: 100%; text-align: left;\">\n",
       "\n",
       "        <tr>\n",
       "        \n",
       "            <td style=\"text-align: left;\"><strong>Connection method:</strong> Cluster object</td>\n",
       "            <td style=\"text-align: left;\"><strong>Cluster type:</strong> distributed.LocalCluster</td>\n",
       "        \n",
       "        </tr>\n",
       "\n",
       "        \n",
       "            <tr>\n",
       "                <td style=\"text-align: left;\">\n",
       "                    <strong>Dashboard: </strong> <a href=\"http://127.0.0.1:8787/status\" target=\"_blank\">http://127.0.0.1:8787/status</a>\n",
       "                </td>\n",
       "                <td style=\"text-align: left;\"></td>\n",
       "            </tr>\n",
       "        \n",
       "\n",
       "        </table>\n",
       "\n",
       "        \n",
       "            <details>\n",
       "            <summary style=\"margin-bottom: 20px;\"><h3 style=\"display: inline;\">Cluster Info</h3></summary>\n",
       "            <div class=\"jp-RenderedHTMLCommon jp-RenderedHTML jp-mod-trusted jp-OutputArea-output\">\n",
       "    <div style=\"width: 24px; height: 24px; background-color: #e1e1e1; border: 3px solid #9D9D9D; border-radius: 5px; position: absolute;\">\n",
       "    </div>\n",
       "    <div style=\"margin-left: 48px;\">\n",
       "        <h3 style=\"margin-bottom: 0px; margin-top: 0px;\">LocalCluster</h3>\n",
       "        <p style=\"color: #9D9D9D; margin-bottom: 0px;\">aa798ce4</p>\n",
       "        <table style=\"width: 100%; text-align: left;\">\n",
       "            <tr>\n",
       "                <td style=\"text-align: left;\">\n",
       "                    <strong>Dashboard:</strong> <a href=\"http://127.0.0.1:8787/status\" target=\"_blank\">http://127.0.0.1:8787/status</a>\n",
       "                </td>\n",
       "                <td style=\"text-align: left;\">\n",
       "                    <strong>Workers:</strong> 4\n",
       "                </td>\n",
       "            </tr>\n",
       "            <tr>\n",
       "                <td style=\"text-align: left;\">\n",
       "                    <strong>Total threads:</strong> 16\n",
       "                </td>\n",
       "                <td style=\"text-align: left;\">\n",
       "                    <strong>Total memory:</strong> 62.81 GiB\n",
       "                </td>\n",
       "            </tr>\n",
       "            \n",
       "            <tr>\n",
       "    <td style=\"text-align: left;\"><strong>Status:</strong> running</td>\n",
       "    <td style=\"text-align: left;\"><strong>Using processes:</strong> True</td>\n",
       "</tr>\n",
       "\n",
       "            \n",
       "        </table>\n",
       "\n",
       "        <details>\n",
       "            <summary style=\"margin-bottom: 20px;\">\n",
       "                <h3 style=\"display: inline;\">Scheduler Info</h3>\n",
       "            </summary>\n",
       "\n",
       "            <div style=\"\">\n",
       "    <div>\n",
       "        <div style=\"width: 24px; height: 24px; background-color: #FFF7E5; border: 3px solid #FF6132; border-radius: 5px; position: absolute;\"> </div>\n",
       "        <div style=\"margin-left: 48px;\">\n",
       "            <h3 style=\"margin-bottom: 0px;\">Scheduler</h3>\n",
       "            <p style=\"color: #9D9D9D; margin-bottom: 0px;\">Scheduler-d0802817-1794-4da6-a9d2-91200cd30af0</p>\n",
       "            <table style=\"width: 100%; text-align: left;\">\n",
       "                <tr>\n",
       "                    <td style=\"text-align: left;\">\n",
       "                        <strong>Comm:</strong> tcp://127.0.0.1:35279\n",
       "                    </td>\n",
       "                    <td style=\"text-align: left;\">\n",
       "                        <strong>Workers:</strong> 4\n",
       "                    </td>\n",
       "                </tr>\n",
       "                <tr>\n",
       "                    <td style=\"text-align: left;\">\n",
       "                        <strong>Dashboard:</strong> <a href=\"http://127.0.0.1:8787/status\" target=\"_blank\">http://127.0.0.1:8787/status</a>\n",
       "                    </td>\n",
       "                    <td style=\"text-align: left;\">\n",
       "                        <strong>Total threads:</strong> 16\n",
       "                    </td>\n",
       "                </tr>\n",
       "                <tr>\n",
       "                    <td style=\"text-align: left;\">\n",
       "                        <strong>Started:</strong> Just now\n",
       "                    </td>\n",
       "                    <td style=\"text-align: left;\">\n",
       "                        <strong>Total memory:</strong> 62.81 GiB\n",
       "                    </td>\n",
       "                </tr>\n",
       "            </table>\n",
       "        </div>\n",
       "    </div>\n",
       "\n",
       "    <details style=\"margin-left: 48px;\">\n",
       "        <summary style=\"margin-bottom: 20px;\">\n",
       "            <h3 style=\"display: inline;\">Workers</h3>\n",
       "        </summary>\n",
       "\n",
       "        \n",
       "        <div style=\"margin-bottom: 20px;\">\n",
       "            <div style=\"width: 24px; height: 24px; background-color: #DBF5FF; border: 3px solid #4CC9FF; border-radius: 5px; position: absolute;\"> </div>\n",
       "            <div style=\"margin-left: 48px;\">\n",
       "            <details>\n",
       "                <summary>\n",
       "                    <h4 style=\"margin-bottom: 0px; display: inline;\">Worker: 0</h4>\n",
       "                </summary>\n",
       "                <table style=\"width: 100%; text-align: left;\">\n",
       "                    <tr>\n",
       "                        <td style=\"text-align: left;\">\n",
       "                            <strong>Comm: </strong> tcp://127.0.0.1:46693\n",
       "                        </td>\n",
       "                        <td style=\"text-align: left;\">\n",
       "                            <strong>Total threads: </strong> 4\n",
       "                        </td>\n",
       "                    </tr>\n",
       "                    <tr>\n",
       "                        <td style=\"text-align: left;\">\n",
       "                            <strong>Dashboard: </strong> <a href=\"http://127.0.0.1:33915/status\" target=\"_blank\">http://127.0.0.1:33915/status</a>\n",
       "                        </td>\n",
       "                        <td style=\"text-align: left;\">\n",
       "                            <strong>Memory: </strong> 15.70 GiB\n",
       "                        </td>\n",
       "                    </tr>\n",
       "                    <tr>\n",
       "                        <td style=\"text-align: left;\">\n",
       "                            <strong>Nanny: </strong> tcp://127.0.0.1:38415\n",
       "                        </td>\n",
       "                        <td style=\"text-align: left;\"></td>\n",
       "                    </tr>\n",
       "                    <tr>\n",
       "                        <td colspan=\"2\" style=\"text-align: left;\">\n",
       "                            <strong>Local directory: </strong> /tmp/dask-worker-space/worker-3oo7swho\n",
       "                        </td>\n",
       "                    </tr>\n",
       "\n",
       "                    \n",
       "\n",
       "                    \n",
       "\n",
       "                </table>\n",
       "            </details>\n",
       "            </div>\n",
       "        </div>\n",
       "        \n",
       "        <div style=\"margin-bottom: 20px;\">\n",
       "            <div style=\"width: 24px; height: 24px; background-color: #DBF5FF; border: 3px solid #4CC9FF; border-radius: 5px; position: absolute;\"> </div>\n",
       "            <div style=\"margin-left: 48px;\">\n",
       "            <details>\n",
       "                <summary>\n",
       "                    <h4 style=\"margin-bottom: 0px; display: inline;\">Worker: 1</h4>\n",
       "                </summary>\n",
       "                <table style=\"width: 100%; text-align: left;\">\n",
       "                    <tr>\n",
       "                        <td style=\"text-align: left;\">\n",
       "                            <strong>Comm: </strong> tcp://127.0.0.1:45549\n",
       "                        </td>\n",
       "                        <td style=\"text-align: left;\">\n",
       "                            <strong>Total threads: </strong> 4\n",
       "                        </td>\n",
       "                    </tr>\n",
       "                    <tr>\n",
       "                        <td style=\"text-align: left;\">\n",
       "                            <strong>Dashboard: </strong> <a href=\"http://127.0.0.1:35429/status\" target=\"_blank\">http://127.0.0.1:35429/status</a>\n",
       "                        </td>\n",
       "                        <td style=\"text-align: left;\">\n",
       "                            <strong>Memory: </strong> 15.70 GiB\n",
       "                        </td>\n",
       "                    </tr>\n",
       "                    <tr>\n",
       "                        <td style=\"text-align: left;\">\n",
       "                            <strong>Nanny: </strong> tcp://127.0.0.1:33475\n",
       "                        </td>\n",
       "                        <td style=\"text-align: left;\"></td>\n",
       "                    </tr>\n",
       "                    <tr>\n",
       "                        <td colspan=\"2\" style=\"text-align: left;\">\n",
       "                            <strong>Local directory: </strong> /tmp/dask-worker-space/worker-_v66xqoz\n",
       "                        </td>\n",
       "                    </tr>\n",
       "\n",
       "                    \n",
       "\n",
       "                    \n",
       "\n",
       "                </table>\n",
       "            </details>\n",
       "            </div>\n",
       "        </div>\n",
       "        \n",
       "        <div style=\"margin-bottom: 20px;\">\n",
       "            <div style=\"width: 24px; height: 24px; background-color: #DBF5FF; border: 3px solid #4CC9FF; border-radius: 5px; position: absolute;\"> </div>\n",
       "            <div style=\"margin-left: 48px;\">\n",
       "            <details>\n",
       "                <summary>\n",
       "                    <h4 style=\"margin-bottom: 0px; display: inline;\">Worker: 2</h4>\n",
       "                </summary>\n",
       "                <table style=\"width: 100%; text-align: left;\">\n",
       "                    <tr>\n",
       "                        <td style=\"text-align: left;\">\n",
       "                            <strong>Comm: </strong> tcp://127.0.0.1:38829\n",
       "                        </td>\n",
       "                        <td style=\"text-align: left;\">\n",
       "                            <strong>Total threads: </strong> 4\n",
       "                        </td>\n",
       "                    </tr>\n",
       "                    <tr>\n",
       "                        <td style=\"text-align: left;\">\n",
       "                            <strong>Dashboard: </strong> <a href=\"http://127.0.0.1:39275/status\" target=\"_blank\">http://127.0.0.1:39275/status</a>\n",
       "                        </td>\n",
       "                        <td style=\"text-align: left;\">\n",
       "                            <strong>Memory: </strong> 15.70 GiB\n",
       "                        </td>\n",
       "                    </tr>\n",
       "                    <tr>\n",
       "                        <td style=\"text-align: left;\">\n",
       "                            <strong>Nanny: </strong> tcp://127.0.0.1:44955\n",
       "                        </td>\n",
       "                        <td style=\"text-align: left;\"></td>\n",
       "                    </tr>\n",
       "                    <tr>\n",
       "                        <td colspan=\"2\" style=\"text-align: left;\">\n",
       "                            <strong>Local directory: </strong> /tmp/dask-worker-space/worker-3lfwwfx_\n",
       "                        </td>\n",
       "                    </tr>\n",
       "\n",
       "                    \n",
       "\n",
       "                    \n",
       "\n",
       "                </table>\n",
       "            </details>\n",
       "            </div>\n",
       "        </div>\n",
       "        \n",
       "        <div style=\"margin-bottom: 20px;\">\n",
       "            <div style=\"width: 24px; height: 24px; background-color: #DBF5FF; border: 3px solid #4CC9FF; border-radius: 5px; position: absolute;\"> </div>\n",
       "            <div style=\"margin-left: 48px;\">\n",
       "            <details>\n",
       "                <summary>\n",
       "                    <h4 style=\"margin-bottom: 0px; display: inline;\">Worker: 3</h4>\n",
       "                </summary>\n",
       "                <table style=\"width: 100%; text-align: left;\">\n",
       "                    <tr>\n",
       "                        <td style=\"text-align: left;\">\n",
       "                            <strong>Comm: </strong> tcp://127.0.0.1:40763\n",
       "                        </td>\n",
       "                        <td style=\"text-align: left;\">\n",
       "                            <strong>Total threads: </strong> 4\n",
       "                        </td>\n",
       "                    </tr>\n",
       "                    <tr>\n",
       "                        <td style=\"text-align: left;\">\n",
       "                            <strong>Dashboard: </strong> <a href=\"http://127.0.0.1:38159/status\" target=\"_blank\">http://127.0.0.1:38159/status</a>\n",
       "                        </td>\n",
       "                        <td style=\"text-align: left;\">\n",
       "                            <strong>Memory: </strong> 15.70 GiB\n",
       "                        </td>\n",
       "                    </tr>\n",
       "                    <tr>\n",
       "                        <td style=\"text-align: left;\">\n",
       "                            <strong>Nanny: </strong> tcp://127.0.0.1:33571\n",
       "                        </td>\n",
       "                        <td style=\"text-align: left;\"></td>\n",
       "                    </tr>\n",
       "                    <tr>\n",
       "                        <td colspan=\"2\" style=\"text-align: left;\">\n",
       "                            <strong>Local directory: </strong> /tmp/dask-worker-space/worker-1dwsn_49\n",
       "                        </td>\n",
       "                    </tr>\n",
       "\n",
       "                    \n",
       "\n",
       "                    \n",
       "\n",
       "                </table>\n",
       "            </details>\n",
       "            </div>\n",
       "        </div>\n",
       "        \n",
       "\n",
       "    </details>\n",
       "</div>\n",
       "\n",
       "        </details>\n",
       "    </div>\n",
       "</div>\n",
       "            </details>\n",
       "        \n",
       "\n",
       "    </div>\n",
       "</div>"
      ],
      "text/plain": [
       "<Client: 'tcp://127.0.0.1:35279' processes=4 threads=16, memory=62.81 GiB>"
      ]
     },
     "execution_count": 2,
     "metadata": {},
     "output_type": "execute_result"
    }
   ],
   "source": [
    "client = Client()\n",
    "client"
   ]
  },
  {
   "cell_type": "markdown",
   "id": "d07f21f7-91f6-4e28-9bde-2fe62f439ab3",
   "metadata": {},
   "source": [
    "The data for both CAM and WACCM are located in the CMIP6 PANGEO catalogue. "
   ]
  },
  {
   "cell_type": "code",
   "execution_count": 5,
   "id": "8af9bd2c-27ec-4331-afe4-856b7a6ea56c",
   "metadata": {},
   "outputs": [],
   "source": [
    "cat_url = \"https://storage.googleapis.com/cmip6/pangeo-cmip6.json\"\n",
    "col = intake.open_esm_datastore(cat_url)\n",
    "# Search the catalogue for ozone data \n",
    "waccm_o3 = col.search(source_id=['CESM2-WACCM'], experiment_id=['historical'], table_id=['Amon'], variable_id=['o3'], member_id=['r1i1p1f1','r2i1p1f1','r3i1p1f1'])\n",
    "cam_o3 = col.search(source_id=['CESM2'], experiment_id=['historical'], table_id=['Amon'], variable_id=['o3'], member_id=['r1i1p1f1','r2i1p1f1','r3i1p1f1'])\n",
    "\n",
    "# Search the catalogue for AOD data \n",
    "waccm_aod = col.search(source_id=['CESM2-WACCM'], experiment_id=['historical'], table_id=['AERmon'], variable_id=['od550aer'], member_id=['r1i1p1f1','r2i1p1f1','r3i1p1f1'])\n",
    "cam_aod = col.search(source_id=['CESM2'], experiment_id=['historical'], table_id=['AERmon'], variable_id=['od550aer'], member_id=['r1i1p1f1','r2i1p1f1','r3i1p1f1'])\n",
    "\n",
    "#Search the catalogue for temperature data \n",
    "waccm_t = col.search(source_id=['CESM2-WACCM'], experiment_id=['historical'], table_id=['Amon'], variable_id=['ta'], member_id=['r1i1p1f1','r2i1p1f1','r3i1p1f1'])\n",
    "cam_t = col.search(source_id=['CESM2'], experiment_id=['historical'], table_id=['Amon'], variable_id=['ta'], member_id=['r1i1p1f1','r2i1p1f1','r3i1p1f1'])"
   ]
  },
  {
   "cell_type": "code",
   "execution_count": 6,
   "id": "e3310774-5b18-4b81-b0cb-d4db7146b4f4",
   "metadata": {
    "collapsed": true,
    "jupyter": {
     "outputs_hidden": true
    },
    "tags": []
   },
   "outputs": [
    {
     "name": "stdout",
     "output_type": "stream",
     "text": [
      "\n",
      "--> The keys in the returned dictionary of datasets are constructed as follows:\n",
      "\t'activity_id.institution_id.source_id.experiment_id.table_id.grid_label'\n"
     ]
    },
    {
     "data": {
      "text/html": [
       "\n",
       "<style>\n",
       "    /* Turns off some styling */\n",
       "    progress {\n",
       "        /* gets rid of default border in Firefox and Opera. */\n",
       "        border: none;\n",
       "        /* Needs to be in here for Safari polyfill so background images work as expected. */\n",
       "        background-size: auto;\n",
       "    }\n",
       "    progress:not([value]), progress:not([value])::-webkit-progress-bar {\n",
       "        background: repeating-linear-gradient(45deg, #7e7e7e, #7e7e7e 10px, #5c5c5c 10px, #5c5c5c 20px);\n",
       "    }\n",
       "    .progress-bar-interrupted, .progress-bar-interrupted::-webkit-progress-bar {\n",
       "        background: #F44336;\n",
       "    }\n",
       "</style>\n"
      ],
      "text/plain": [
       "<IPython.core.display.HTML object>"
      ]
     },
     "metadata": {},
     "output_type": "display_data"
    },
    {
     "data": {
      "text/html": [
       "\n",
       "    <div>\n",
       "      <progress value='1' class='' max='1' style='width:300px; height:20px; vertical-align: middle;'></progress>\n",
       "      100.00% [1/1 00:00&lt;00:00]\n",
       "    </div>\n",
       "    "
      ],
      "text/plain": [
       "<IPython.core.display.HTML object>"
      ]
     },
     "metadata": {},
     "output_type": "display_data"
    },
    {
     "name": "stdout",
     "output_type": "stream",
     "text": [
      "\n",
      "--> The keys in the returned dictionary of datasets are constructed as follows:\n",
      "\t'activity_id.institution_id.source_id.experiment_id.table_id.grid_label'\n"
     ]
    },
    {
     "data": {
      "text/html": [
       "\n",
       "<style>\n",
       "    /* Turns off some styling */\n",
       "    progress {\n",
       "        /* gets rid of default border in Firefox and Opera. */\n",
       "        border: none;\n",
       "        /* Needs to be in here for Safari polyfill so background images work as expected. */\n",
       "        background-size: auto;\n",
       "    }\n",
       "    progress:not([value]), progress:not([value])::-webkit-progress-bar {\n",
       "        background: repeating-linear-gradient(45deg, #7e7e7e, #7e7e7e 10px, #5c5c5c 10px, #5c5c5c 20px);\n",
       "    }\n",
       "    .progress-bar-interrupted, .progress-bar-interrupted::-webkit-progress-bar {\n",
       "        background: #F44336;\n",
       "    }\n",
       "</style>\n"
      ],
      "text/plain": [
       "<IPython.core.display.HTML object>"
      ]
     },
     "metadata": {},
     "output_type": "display_data"
    },
    {
     "data": {
      "text/html": [
       "\n",
       "    <div>\n",
       "      <progress value='1' class='' max='1' style='width:300px; height:20px; vertical-align: middle;'></progress>\n",
       "      100.00% [1/1 00:00&lt;00:00]\n",
       "    </div>\n",
       "    "
      ],
      "text/plain": [
       "<IPython.core.display.HTML object>"
      ]
     },
     "metadata": {},
     "output_type": "display_data"
    },
    {
     "name": "stdout",
     "output_type": "stream",
     "text": [
      "\n",
      "--> The keys in the returned dictionary of datasets are constructed as follows:\n",
      "\t'activity_id.institution_id.source_id.experiment_id.table_id.grid_label'\n"
     ]
    },
    {
     "data": {
      "text/html": [
       "\n",
       "<style>\n",
       "    /* Turns off some styling */\n",
       "    progress {\n",
       "        /* gets rid of default border in Firefox and Opera. */\n",
       "        border: none;\n",
       "        /* Needs to be in here for Safari polyfill so background images work as expected. */\n",
       "        background-size: auto;\n",
       "    }\n",
       "    progress:not([value]), progress:not([value])::-webkit-progress-bar {\n",
       "        background: repeating-linear-gradient(45deg, #7e7e7e, #7e7e7e 10px, #5c5c5c 10px, #5c5c5c 20px);\n",
       "    }\n",
       "    .progress-bar-interrupted, .progress-bar-interrupted::-webkit-progress-bar {\n",
       "        background: #F44336;\n",
       "    }\n",
       "</style>\n"
      ],
      "text/plain": [
       "<IPython.core.display.HTML object>"
      ]
     },
     "metadata": {},
     "output_type": "display_data"
    },
    {
     "data": {
      "text/html": [
       "\n",
       "    <div>\n",
       "      <progress value='1' class='' max='1' style='width:300px; height:20px; vertical-align: middle;'></progress>\n",
       "      100.00% [1/1 00:00&lt;00:00]\n",
       "    </div>\n",
       "    "
      ],
      "text/plain": [
       "<IPython.core.display.HTML object>"
      ]
     },
     "metadata": {},
     "output_type": "display_data"
    },
    {
     "name": "stdout",
     "output_type": "stream",
     "text": [
      "\n",
      "--> The keys in the returned dictionary of datasets are constructed as follows:\n",
      "\t'activity_id.institution_id.source_id.experiment_id.table_id.grid_label'\n"
     ]
    },
    {
     "data": {
      "text/html": [
       "\n",
       "<style>\n",
       "    /* Turns off some styling */\n",
       "    progress {\n",
       "        /* gets rid of default border in Firefox and Opera. */\n",
       "        border: none;\n",
       "        /* Needs to be in here for Safari polyfill so background images work as expected. */\n",
       "        background-size: auto;\n",
       "    }\n",
       "    progress:not([value]), progress:not([value])::-webkit-progress-bar {\n",
       "        background: repeating-linear-gradient(45deg, #7e7e7e, #7e7e7e 10px, #5c5c5c 10px, #5c5c5c 20px);\n",
       "    }\n",
       "    .progress-bar-interrupted, .progress-bar-interrupted::-webkit-progress-bar {\n",
       "        background: #F44336;\n",
       "    }\n",
       "</style>\n"
      ],
      "text/plain": [
       "<IPython.core.display.HTML object>"
      ]
     },
     "metadata": {},
     "output_type": "display_data"
    },
    {
     "data": {
      "text/html": [
       "\n",
       "    <div>\n",
       "      <progress value='1' class='' max='1' style='width:300px; height:20px; vertical-align: middle;'></progress>\n",
       "      100.00% [1/1 00:00&lt;00:00]\n",
       "    </div>\n",
       "    "
      ],
      "text/plain": [
       "<IPython.core.display.HTML object>"
      ]
     },
     "metadata": {},
     "output_type": "display_data"
    },
    {
     "name": "stdout",
     "output_type": "stream",
     "text": [
      "\n",
      "--> The keys in the returned dictionary of datasets are constructed as follows:\n",
      "\t'activity_id.institution_id.source_id.experiment_id.table_id.grid_label'\n"
     ]
    },
    {
     "data": {
      "text/html": [
       "\n",
       "<style>\n",
       "    /* Turns off some styling */\n",
       "    progress {\n",
       "        /* gets rid of default border in Firefox and Opera. */\n",
       "        border: none;\n",
       "        /* Needs to be in here for Safari polyfill so background images work as expected. */\n",
       "        background-size: auto;\n",
       "    }\n",
       "    progress:not([value]), progress:not([value])::-webkit-progress-bar {\n",
       "        background: repeating-linear-gradient(45deg, #7e7e7e, #7e7e7e 10px, #5c5c5c 10px, #5c5c5c 20px);\n",
       "    }\n",
       "    .progress-bar-interrupted, .progress-bar-interrupted::-webkit-progress-bar {\n",
       "        background: #F44336;\n",
       "    }\n",
       "</style>\n"
      ],
      "text/plain": [
       "<IPython.core.display.HTML object>"
      ]
     },
     "metadata": {},
     "output_type": "display_data"
    },
    {
     "data": {
      "text/html": [
       "\n",
       "    <div>\n",
       "      <progress value='1' class='' max='1' style='width:300px; height:20px; vertical-align: middle;'></progress>\n",
       "      100.00% [1/1 00:00&lt;00:00]\n",
       "    </div>\n",
       "    "
      ],
      "text/plain": [
       "<IPython.core.display.HTML object>"
      ]
     },
     "metadata": {},
     "output_type": "display_data"
    },
    {
     "name": "stdout",
     "output_type": "stream",
     "text": [
      "\n",
      "--> The keys in the returned dictionary of datasets are constructed as follows:\n",
      "\t'activity_id.institution_id.source_id.experiment_id.table_id.grid_label'\n"
     ]
    },
    {
     "data": {
      "text/html": [
       "\n",
       "<style>\n",
       "    /* Turns off some styling */\n",
       "    progress {\n",
       "        /* gets rid of default border in Firefox and Opera. */\n",
       "        border: none;\n",
       "        /* Needs to be in here for Safari polyfill so background images work as expected. */\n",
       "        background-size: auto;\n",
       "    }\n",
       "    progress:not([value]), progress:not([value])::-webkit-progress-bar {\n",
       "        background: repeating-linear-gradient(45deg, #7e7e7e, #7e7e7e 10px, #5c5c5c 10px, #5c5c5c 20px);\n",
       "    }\n",
       "    .progress-bar-interrupted, .progress-bar-interrupted::-webkit-progress-bar {\n",
       "        background: #F44336;\n",
       "    }\n",
       "</style>\n"
      ],
      "text/plain": [
       "<IPython.core.display.HTML object>"
      ]
     },
     "metadata": {},
     "output_type": "display_data"
    },
    {
     "data": {
      "text/html": [
       "\n",
       "    <div>\n",
       "      <progress value='1' class='' max='1' style='width:300px; height:20px; vertical-align: middle;'></progress>\n",
       "      100.00% [1/1 00:00&lt;00:00]\n",
       "    </div>\n",
       "    "
      ],
      "text/plain": [
       "<IPython.core.display.HTML object>"
      ]
     },
     "metadata": {},
     "output_type": "display_data"
    }
   ],
   "source": [
    "dict_waccm_o3 = waccm_o3.to_dataset_dict(zarr_kwargs={'use_cftime':True}, cdf_kwargs={\"chunks\": {\"time\": 40}})\n",
    "dict_cam_o3 = cam_o3.to_dataset_dict(zarr_kwargs={'use_cftime':True},cdf_kwargs={\"chunks\": {\"time\": 4}})\n",
    "\n",
    "dict_waccm_aod = waccm_aod.to_dataset_dict(zarr_kwargs={'use_cftime':True}, cdf_kwargs={\"chunks\": {\"time\": 40}})\n",
    "dict_cam_aod = cam_aod.to_dataset_dict(zarr_kwargs={'use_cftime':True},cdf_kwargs={\"chunks\": {\"time\": 4}})\n",
    "\n",
    "dict_waccm_t = waccm_t.to_dataset_dict(zarr_kwargs={'use_cftime':True}, cdf_kwargs={\"chunks\": {\"time\": 40}})\n",
    "dict_cam_t = cam_t.to_dataset_dict(zarr_kwargs={'use_cftime':True},cdf_kwargs={\"chunks\": {\"time\": 4}})\n"
   ]
  },
  {
   "cell_type": "code",
   "execution_count": 9,
   "id": "b423a407-4909-4eab-b072-08af6d31899a",
   "metadata": {},
   "outputs": [
    {
     "name": "stdout",
     "output_type": "stream",
     "text": [
      "['CMIP.NCAR.CESM2-WACCM.historical.Amon.gn']\n",
      "['CMIP.NCAR.CESM2.historical.Amon.gn']\n",
      "['CMIP.NCAR.CESM2-WACCM.historical.AERmon.gn']\n",
      "['CMIP.NCAR.CESM2.historical.AERmon.gn']\n",
      "['CMIP.NCAR.CESM2-WACCM.historical.Amon.gn']\n",
      "['CMIP.NCAR.CESM2.historical.Amon.gn']\n"
     ]
    }
   ],
   "source": [
    "print(list(dict_waccm_o3.keys()))\n",
    "print(list(dict_cam_o3.keys()))\n",
    "waccm_o3 = dict_waccm_o3['CMIP.NCAR.CESM2-WACCM.historical.Amon.gn']\n",
    "cam_o3 = dict_cam_o3['CMIP.NCAR.CESM2.historical.Amon.gn']\n",
    "\n",
    "print(list(dict_waccm_aod.keys()))\n",
    "print(list(dict_cam_aod.keys()))\n",
    "waccm_aod = dict_waccm_aod['CMIP.NCAR.CESM2-WACCM.historical.AERmon.gn']\n",
    "cam_aod = dict_cam_aod['CMIP.NCAR.CESM2.historical.AERmon.gn']\n",
    "\n",
    "print(list(dict_waccm_t.keys()))\n",
    "print(list(dict_cam_t.keys()))\n",
    "waccm_t = dict_waccm_t['CMIP.NCAR.CESM2-WACCM.historical.Amon.gn']\n",
    "cam_t = dict_cam_t['CMIP.NCAR.CESM2.historical.Amon.gn']"
   ]
  },
  {
   "cell_type": "markdown",
   "id": "e7175ee5-a445-40ad-9e70-7c1631381d46",
   "metadata": {},
   "source": [
    "To easier handle the datasets merge the variables for each dataset."
   ]
  },
  {
   "cell_type": "code",
   "execution_count": 20,
   "id": "0211053a-7f9d-4e09-b6e2-df5cfbeb8847",
   "metadata": {},
   "outputs": [],
   "source": [
    "waccm = waccm_o3.merge(waccm_t,compat='override').merge(waccm_aod,compat='override')\n",
    "cam = cam_o3.merge(cam_t,compat='override').merge(cam_aod,compat='override')"
   ]
  },
  {
   "cell_type": "markdown",
   "id": "34d484c5-d7db-41d4-845a-3c65745a112a",
   "metadata": {},
   "source": [
    "## Analysis method"
   ]
  },
  {
   "cell_type": "markdown",
   "id": "3eddbf54-4075-4e3d-ba75-44ff782afd4b",
   "metadata": {},
   "source": [
    "To reuce the size of the datasets a specific time range is selected. In this work the eruption of Mount Pinatubo, January 1986 to December 1996 is selected. This time span will allow for calculations of the anomaly by taking the mean of 5 years prior the eruption, i.e the climatology, and substracting that from the remaining 6 years to get rid of any seasonaly variations."
   ]
  },
  {
   "cell_type": "code",
   "execution_count": 25,
   "id": "28f5a279-b2fc-4878-a347-81aeee06bfa0",
   "metadata": {},
   "outputs": [],
   "source": [
    "# Select the starting year 5 years prior to the eruption\n",
    "start_pina = cftime.DatetimeNoLeap(1986,1,15)\n",
    "end_pina = cftime.DatetimeNoLeap(1996,12,15)\n",
    "\n",
    "# WACCM\n",
    "waccm_1986_1996 = waccm.sel(time=slice(start_pina, end_pina))\n",
    "# CAM\n",
    "cam_1986_1996 = cam.sel(time=slice(start_pina, end_pina))"
   ]
  },
  {
   "cell_type": "markdown",
   "id": "5365d4d4-89ed-41eb-9783-d0c833c2cc82",
   "metadata": {},
   "source": [
    "Before calculating the anomaly for the three variables the ozone variable need to be converted from mol/mol to dobson units (DU). This is done by using the function *calculate_total_ozone_p* located in the eScienceCourse_2022_EmmaAxebrink_functions.py file. This function will create a new variable called *totO3*."
   ]
  },
  {
   "cell_type": "code",
   "execution_count": 29,
   "id": "92639811-9e9e-4662-8df9-4578547312c3",
   "metadata": {},
   "outputs": [],
   "source": [
    "waccm_1986_1996 = calculate_total_ozone_p(waccm_1986_1996)\n",
    "cam_1986_1996 = calculate_total_ozone_p(cam_1986_1996)"
   ]
  },
  {
   "cell_type": "code",
   "execution_count": 32,
   "id": "20834ccc-1985-45f0-b7f9-9197b5247ee6",
   "metadata": {
    "collapsed": true,
    "jupyter": {
     "outputs_hidden": true
    },
    "tags": []
   },
   "outputs": [
    {
     "name": "stderr",
     "output_type": "stream",
     "text": [
      "/srv/conda/envs/notebook/lib/python3.9/site-packages/xarray/core/indexing.py:1374: PerformanceWarning: Slicing with an out-of-order index is generating 11 times more chunks\n",
      "  return self.array[key]\n",
      "/srv/conda/envs/notebook/lib/python3.9/site-packages/xarray/core/indexing.py:1374: PerformanceWarning: Slicing with an out-of-order index is generating 11 times more chunks\n",
      "  return self.array[key]\n",
      "/srv/conda/envs/notebook/lib/python3.9/site-packages/xarray/core/indexing.py:1374: PerformanceWarning: Slicing with an out-of-order index is generating 11 times more chunks\n",
      "  return self.array[key]\n",
      "/srv/conda/envs/notebook/lib/python3.9/site-packages/xarray/core/indexing.py:1374: PerformanceWarning: Slicing with an out-of-order index is generating 11 times more chunks\n",
      "  return self.array[key]\n",
      "/srv/conda/envs/notebook/lib/python3.9/site-packages/xarray/core/indexing.py:1374: PerformanceWarning: Slicing with an out-of-order index is generating 11 times more chunks\n",
      "  return self.array[key]\n",
      "/srv/conda/envs/notebook/lib/python3.9/site-packages/xarray/core/indexing.py:1374: PerformanceWarning: Slicing with an out-of-order index is generating 11 times more chunks\n",
      "  return self.array[key]\n"
     ]
    }
   ],
   "source": [
    "# Yearly\n",
    "year_waccm_anom_1986_1996_o3 = calc_yearly_anomaly(waccm_1986_1996.totO3,1991)\n",
    "year_cam_anom_1986_1996_o3 = calc_yearly_anomaly(cam_1986_1996.totO3,1991)\n",
    "\n",
    "year_waccm_anom_1986_1996_aod = calc_yearly_anomaly(waccm_1986_1996.od550aer,1991)\n",
    "year_cam_anom_1986_1996_aod = calc_yearly_anomaly(cam_1986_1996.od550aer,1991)\n",
    "\n",
    "year_waccm_anom_1986_1996_t = calc_yearly_anomaly(waccm_1986_1996.ta,1991)\n",
    "year_cam_anom_1986_1996_t = calc_yearly_anomaly(cam_1986_1996.ta,1991)\n",
    "\n",
    "# Monthly\n",
    "mon_waccm_anom_1986_1996_o3 = calc_monthly_anomaly(waccm_1986_1996.totO3,1991)\n",
    "mon_cam_anom_1986_1996_o3 = calc_monthly_anomaly(cam_1986_1996.totO3,1991)\n",
    "\n",
    "mon_waccm_anom_1986_1996_aod = calc_monthly_anomaly(waccm_1986_1996.od550aer,1991)\n",
    "mon_cam_anom_1986_1996_aod = calc_monthly_anomaly(cam_1986_1996.od550aer,1991)\n",
    "\n",
    "mon_waccm_anom_1986_1996_t = calc_monthly_anomaly(waccm_1986_1996.ta,1991)\n",
    "mon_cam_anom_1986_1996_t = calc_monthly_anomaly(cam_1986_1996.ta,1991)"
   ]
  },
  {
   "cell_type": "markdown",
   "id": "40613e39-1ebe-41df-8d31-c5ad28048846",
   "metadata": {},
   "source": [
    "To compare the two models the three members in CAM and the three members WACCM are plotted in the same subplot using the function *plot2_year* or *plot2_mon* the 2 in the name indicated that the plot will contain 2 subplots which will be the northern hemisphere > 60N and the southern hemisphere < 60S. The function *plot3_year* will contain an additional subplot with the latitude 60S ~ 60N"
   ]
  },
  {
   "cell_type": "markdown",
   "id": "84c885b7-3dba-4a2f-a4be-f31ce8aec94d",
   "metadata": {},
   "source": [
    "# Results"
   ]
  },
  {
   "cell_type": "markdown",
   "id": "0ac4dac4-4b41-43d9-bbb9-801ea8091254",
   "metadata": {},
   "source": [
    "# Discussion and outlook"
   ]
  },
  {
   "cell_type": "markdown",
   "id": "14939bd6-7ea6-4261-9ac6-dfef2310b2b0",
   "metadata": {},
   "source": [
    "# Conclusions"
   ]
  },
  {
   "cell_type": "markdown",
   "id": "b873b7e3-6716-4976-9547-98fd662c64e5",
   "metadata": {
    "tags": []
   },
   "source": [
    "# References\n",
    "\n",
    "[1]: https://agupubs.onlinelibrary.wiley.com/doi/10.1029/2019MS001916\n",
    "\\[1]\\: https://agupubs.onlinelibrary.wiley.com/doi/10.1029/2019MS001916"
   ]
  },
  {
   "cell_type": "markdown",
   "id": "4813fe0a-dcfa-4f0b-ac8e-4d0ea5864c49",
   "metadata": {},
   "source": [
    "# Acknowledgments"
   ]
  },
  {
   "cell_type": "markdown",
   "id": "f6ab1b18-e69e-4e31-9a75-1e498fc19c54",
   "metadata": {},
   "source": [
    "# Supplementary materials"
   ]
  }
 ],
 "metadata": {
  "kernelspec": {
   "display_name": "Python 3 (ipykernel)",
   "language": "python",
   "name": "python3"
  },
  "language_info": {
   "codemirror_mode": {
    "name": "ipython",
    "version": 3
   },
   "file_extension": ".py",
   "mimetype": "text/x-python",
   "name": "python",
   "nbconvert_exporter": "python",
   "pygments_lexer": "ipython3",
   "version": "3.9.13"
  }
 },
 "nbformat": 4,
 "nbformat_minor": 5
}
