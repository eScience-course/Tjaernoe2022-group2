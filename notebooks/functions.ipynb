{
 "cells": [
  {
   "cell_type": "code",
   "execution_count": null,
   "id": "a94ebf13-9604-4105-92d9-e2731bb9982d",
   "metadata": {},
   "outputs": [],
   "source": [
    "def calculate_total_ozone(ds):\n",
    "    O3_vmm = ds.o3\n",
    "    O3_mmm = O3_vmm*(48.0/28.94)\n",
    "    \n",
    "    g=9.81\n",
    "    P0 = ds.p0\n",
    "    PS = ds.ps\n",
    "    hyai = ds.a\n",
    "    hybi = ds.b\n",
    "    Plevi = hyai*P0+hybi*PS\n",
    "    \n",
    "    dp = np.empty(shape=O3_vmm.shape)\n",
    "    \n",
    "    dpa=xr.DataArray(dp,coords=ds.o3.coords,dims=ds.o3.dims)\n",
    "    \n",
    "    for i in range(1,Plevi.shape[0]):\n",
    "        dpa[dict(lev=i-1)]=-(Plevi[i]-Plevi[i-1])\n",
    "        \n",
    "    O3_t=O3_mmm*dpa/g\n",
    "    \n",
    "    totO3=O3_t.sum(dim='lev')\n",
    "    \n",
    "    totO3DU = totO3/2.1415e-5\n",
    "    print('Minimum column ozone value: {}'.format(totO3DU.min()))\n",
    "    ds2=totO3DU.to_dataset(name='totO3')\n",
    "    ds3=ds.merge(ds2)\n",
    "    ds3.totO3.attrs['units']='DU'\n",
    "    ds3.totO3.attrs['long_name']='Column ozone in Dobson Units'\n",
    "    return ds3"
   ]
  },
  {
   "cell_type": "code",
   "execution_count": 1,
   "id": "42cfde18-c7da-4978-bd50-496306e70038",
   "metadata": {},
   "outputs": [],
   "source": [
    "def calculate_total_ozone_p(ds):\n",
    "    O3_vmm = ds.o3\n",
    "    O3_mmm = O3_vmm*(48.0/28.94)\n",
    "    \n",
    "    g=9.81\n",
    "    Plevi = ds.plev\n",
    "    \n",
    "    dp = np.empty(shape=O3_vmm.shape)\n",
    "    \n",
    "    dpa=xr.DataArray(dp,coords=ds.o3.coords,dims=ds.o3.dims)\n",
    "    \n",
    "    for i in range(1,Plevi.shape[0]):\n",
    "        dpa[dict(plev=i-1)]=-(Plevi[i]-Plevi[i-1])\n",
    "        \n",
    "    O3_t=O3_mmm*dpa/g\n",
    "    \n",
    "    totO3=O3_t.sum(dim='plev')\n",
    "    \n",
    "    totO3DU = totO3/2.1415e-5\n",
    "    print('Minimum column ozone value: {}'.format(totO3DU.min()))\n",
    "    ds2=totO3DU.to_dataset(name='totO3')\n",
    "    ds3=ds.merge(ds2)\n",
    "    ds3.totO3.attrs['units']='DU'\n",
    "    ds3.totO3.attrs['long_name']='Column ozone in Dobson Units'\n",
    "    return ds3"
   ]
  },
  {
   "cell_type": "code",
   "execution_count": null,
   "id": "518fa698-82b3-4403-a374-fa75abbf7586",
   "metadata": {},
   "outputs": [],
   "source": [
    "def computeWeightedMean(ds):\n",
    "    # Compute weights based on the xarray you pass\n",
    "    weights = np.cos(np.deg2rad(ds.lat))\n",
    "    weights.name = \"weights\"\n",
    "    # Compute weighted mean\n",
    "    air_weighted = ds.weighted(weights)\n",
    "    weighted_mean = air_weighted.mean((\"lon\", \"lat\"))\n",
    "    return weighted_mean"
   ]
  }
 ],
 "metadata": {
  "kernelspec": {
   "display_name": "Python 3 (ipykernel)",
   "language": "python",
   "name": "python3"
  },
  "language_info": {
   "codemirror_mode": {
    "name": "ipython",
    "version": 3
   },
   "file_extension": ".py",
   "mimetype": "text/x-python",
   "name": "python",
   "nbconvert_exporter": "python",
   "pygments_lexer": "ipython3",
   "version": "3.9.13"
  }
 },
 "nbformat": 4,
 "nbformat_minor": 5
}
