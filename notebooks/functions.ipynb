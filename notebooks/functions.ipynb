{
 "cells": [
  {
   "cell_type": "code",
   "execution_count": null,
   "id": "3dd05317-2b1c-4b43-a2f9-c8f01e249cb1",
   "metadata": {},
   "outputs": [],
   "source": [
    "def calculate_general_mass(da,ds,Mm,ulim,llim):\n",
    "    \"\"\"Function calculates the total mass/m2 of a gas between ulim and llim pressure levels.\n",
    "    Parameters: da: xarray.DataArray containing gas molar (or volume) mixing ratio;\n",
    "    ds: xarray.Dataset containing the other necessary parameters (hybrid coefficients, PS and P0);\n",
    "    Mm: Molar mass of the gas in question; ulim: Upper pressure limit; llim: lower pressure limit.\n",
    "    Call signature a = calculate_general_concentration(Cly,data,Mm,100,1)\"\"\"\n",
    "    #gas_mmm = da*(MW/28.94)\n",
    "    #O3_t=O3_mmm*dpa/g\n",
    "    #totO3=O3_t.sum(dim='lev')\n",
    "    #totO3DU = totO3/2.1415e-5\n",
    "   \n",
    "    g = 9.81\n",
    "    Na = 6.022e23\n",
    "    P0 = ds['p0']\n",
    "    PS = ds['ps']\n",
    "    hyai = ds['a']\n",
    "    hybi = ds['b']\n",
    "    Plevi = (hyai*P0+hybi*PS)/100\n",
    "    print(Plevi)\n",
    "   \n",
    "    dp = np.empty(shape=da.shape)\n",
    "   \n",
    "    dpa = xr.DataArray(dp, coords=da.coords, dims=da.dims)\n",
    "   \n",
    "    for i in range(1,Plevi.lev.shape[0]):\n",
    "        dpa[dict(lev=i-1)] = Plevi[dict(lev=i)]-Plevi[dict(lev=i-1)]\n",
    "     \n",
    "    mass_of_air_in_box = dpa/g\n",
    "    #print(mass_of_air_in_box)\n",
    "    #no_of_air_moles_in_box = dpa/28.94\n",
    "    no_of_air_moles_in_box = mass_of_air_in_box*1000/28.94\n",
    "    no_of_air_molec_in_box = no_of_air_moles_in_box*Na\n",
    "    tot_no_of_air_molec = no_of_air_molec_in_box.sel(lev=slice(llim,ulim)).sum(dim='lev')\n",
    "    tot_no_of_air_moles = no_of_air_moles_in_box.sel(lev=slice(llim,ulim)).sum(dim='lev')\n",
    "    tot_mass_of_column_times_area = (tot_no_of_air_moles*28.94/1000.)*4*np.pi*6.3781e6**2\n",
    "    #print(tot_mass_of_column_times_area)\n",
    "   \n",
    "    no_of_gas_moles_in_box = da*no_of_air_moles_in_box\n",
    "    tot_no_of_gas_moles = no_of_gas_moles_in_box.sel(lev=slice(llim,ulim)).sum(dim='lev')\n",
    "    #tot_no_of_gas_moles = tot_no_of_gas_molec/Na\n",
    "    #print(tot_no_of_gas_moles)\n",
    "    tot_mass_of_gas = tot_no_of_gas_moles*Mm/1000.\n",
    "    #general_concentration = tot_no_of_gas_molec/tot_no_of_air_molec\n",
    "    return tot_mass_of_gas "
   ]
  },
  {
   "cell_type": "code",
   "execution_count": null,
   "id": "a94ebf13-9604-4105-92d9-e2731bb9982d",
   "metadata": {},
   "outputs": [],
   "source": [
    "def cal_O3_burden_raw(dso):\n",
    "    Mm = 48 # O3 molar mass g/mol\n",
    "    ulim = 1000\n",
    "    llim = 0\n",
    "    A_e = 510.1e12 # area of earth m2\n",
    "    tlen = dso['o3'].time.shape[0]\n",
    "    da = dso['o3']\n",
    "    ds = dso[dict(time=slice(None,tlen))]\n",
    "    dso['O3_burden'] = calculate_general_mass(da, ds, Mm, ulim, llim)/2.1415e-5\n",
    "    dso['O3_burden'].attrs['units'] = 'DU'\n",
    "    return dso"
   ]
  }
 ],
 "metadata": {
  "kernelspec": {
   "display_name": "Python 3 (ipykernel)",
   "language": "python",
   "name": "python3"
  },
  "language_info": {
   "codemirror_mode": {
    "name": "ipython",
    "version": 3
   },
   "file_extension": ".py",
   "mimetype": "text/x-python",
   "name": "python",
   "nbconvert_exporter": "python",
   "pygments_lexer": "ipython3",
   "version": "3.9.13"
  }
 },
 "nbformat": 4,
 "nbformat_minor": 5
}
