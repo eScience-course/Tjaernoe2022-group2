{
 "cells": [
  {
   "cell_type": "markdown",
   "id": "0126ff74-7cf5-4d02-86c5-3456e6525cdc",
   "metadata": {},
   "source": [
    "# Ozone project - Polar Ozone Responses to Vulcanic Eruprions\n"
   ]
  },
  {
   "cell_type": "markdown",
   "id": "51b98726-5b14-453b-a8a0-d91b8527b081",
   "metadata": {},
   "source": [
    "**Student:**\n",
    "Sigrid Marie Vildskog Auganæs, University of Oslo"
   ]
  },
  {
   "cell_type": "markdown",
   "id": "8ef3533f-49b8-415a-94da-135758084820",
   "metadata": {},
   "source": [
    "**Date:** ..."
   ]
  },
  {
   "cell_type": "markdown",
   "id": "b236d838-4d7e-4f1e-9e2d-6bd3eabf1522",
   "metadata": {},
   "source": [
    "**Assistant:** Zhihong Zhou"
   ]
  },
  {
   "cell_type": "markdown",
   "id": "7279c714-b152-44d0-aa37-c7d2797fc7da",
   "metadata": {},
   "source": [
    "### **Abstract**"
   ]
  },
  {
   "cell_type": "markdown",
   "id": "18536c14-89f6-4bbc-b147-1bc785d8b457",
   "metadata": {},
   "source": [
    "text\n"
   ]
  },
  {
   "cell_type": "markdown",
   "id": "839c61ae-84c0-4496-a1d3-3ddfd1c7c94c",
   "metadata": {},
   "source": [
    "### **Table of Contents**"
   ]
  },
  {
   "cell_type": "markdown",
   "id": "c34be687-ca2d-45db-95f4-b5d39fb17dd0",
   "metadata": {},
   "source": [
    "text"
   ]
  },
  {
   "cell_type": "markdown",
   "id": "28bfcbf1-4c7d-4af0-8722-b5dda82eb203",
   "metadata": {},
   "source": [
    "### __Introduction__"
   ]
  },
  {
   "cell_type": "markdown",
   "id": "47cf9d1a-5655-4f82-8442-639a4c971205",
   "metadata": {},
   "source": [
    "text"
   ]
  },
  {
   "cell_type": "markdown",
   "id": "1aa50ad0-cbcd-4823-a4a2-2257fae1d6ee",
   "metadata": {},
   "source": [
    "### **Methods**"
   ]
  },
  {
   "cell_type": "markdown",
   "id": "a5bd2855-d651-4ce3-b416-6739ee463a84",
   "metadata": {},
   "source": [
    "text, code\n"
   ]
  },
  {
   "cell_type": "markdown",
   "id": "691e6550-a2f9-4e44-916c-7a18072c5c68",
   "metadata": {},
   "source": [
    "### **Results and Discussion**"
   ]
  },
  {
   "cell_type": "markdown",
   "id": "b64273e0-7ebf-4035-9621-83726937b8fd",
   "metadata": {},
   "source": [
    "text and code\n"
   ]
  },
  {
   "cell_type": "markdown",
   "id": "ae776c4d-726a-40ba-afa5-38a962dfee22",
   "metadata": {},
   "source": [
    "### **Conclusion**"
   ]
  },
  {
   "cell_type": "markdown",
   "id": "bf335bbf-b3ff-40ef-8b9d-13cd9450918a",
   "metadata": {},
   "source": [
    "text"
   ]
  },
  {
   "cell_type": "code",
   "execution_count": null,
   "id": "750a908f-005f-4657-bea5-f4098a609209",
   "metadata": {},
   "outputs": [],
   "source": []
  }
 ],
 "metadata": {
  "kernelspec": {
   "display_name": "Python 3 (ipykernel)",
   "language": "python",
   "name": "python3"
  },
  "language_info": {
   "codemirror_mode": {
    "name": "ipython",
    "version": 3
   },
   "file_extension": ".py",
   "mimetype": "text/x-python",
   "name": "python",
   "nbconvert_exporter": "python",
   "pygments_lexer": "ipython3",
   "version": "3.9.13"
  }
 },
 "nbformat": 4,
 "nbformat_minor": 5
}
