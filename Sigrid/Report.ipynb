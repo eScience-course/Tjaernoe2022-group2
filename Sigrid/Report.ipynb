{
 "cells": [
  {
   "cell_type": "markdown",
   "id": "0126ff74-7cf5-4d02-86c5-3456e6525cdc",
   "metadata": {},
   "source": [
    "# Ozone project - Polar Ozone Responses to Vulcanic Eruprions\n"
   ]
  },
  {
   "cell_type": "markdown",
   "id": "51b98726-5b14-453b-a8a0-d91b8527b081",
   "metadata": {},
   "source": [
    "**Student:**\n",
    "Sigrid Marie Vildskog Auganæs, University of Oslo"
   ]
  },
  {
   "cell_type": "markdown",
   "id": "8ef3533f-49b8-415a-94da-135758084820",
   "metadata": {},
   "source": [
    "**Date:** ..."
   ]
  },
  {
   "cell_type": "markdown",
   "id": "b236d838-4d7e-4f1e-9e2d-6bd3eabf1522",
   "metadata": {},
   "source": [
    "**Assistant:** Zhihong Zhou"
   ]
  },
  {
   "cell_type": "markdown",
   "id": "7279c714-b152-44d0-aa37-c7d2797fc7da",
   "metadata": {},
   "source": [
    "### **Abstract**"
   ]
  },
  {
   "cell_type": "markdown",
   "id": "18536c14-89f6-4bbc-b147-1bc785d8b457",
   "metadata": {},
   "source": [
    "text\n"
   ]
  },
  {
   "cell_type": "markdown",
   "id": "839c61ae-84c0-4496-a1d3-3ddfd1c7c94c",
   "metadata": {},
   "source": [
    "### **Table of Contents**"
   ]
  },
  {
   "cell_type": "markdown",
   "id": "c34be687-ca2d-45db-95f4-b5d39fb17dd0",
   "metadata": {},
   "source": [
    "text"
   ]
  },
  {
   "cell_type": "markdown",
   "id": "28bfcbf1-4c7d-4af0-8722-b5dda82eb203",
   "metadata": {},
   "source": [
    "### __1.0 Introduction__"
   ]
  },
  {
   "cell_type": "markdown",
   "id": "47cf9d1a-5655-4f82-8442-639a4c971205",
   "metadata": {},
   "source": [
    "Vulcanic eruptions release both gasses and aerosol particles into the atmosphere. If these compounds reach et stratosphere they can form particles that reflect inncomming shortwave solar radiaton, or absorbe longwave radiation which can cool the surface and warm the stratosphere. Stratospheric vulcanic aerosols can also disturb the ozone consentration, by providing a surface wich hetrogenious ozone depleating reactions can take place. \n",
    "\n",
    "\n",
    "This study intends to investigate the arctic ozone response to vulcanic eruptions in the NorESM, and the difference between present day and pre-CFC conditions. Three different experimental runs of NorESM will be used to study the response around two of the biggest vulcanic eruptions in recorded history, Krakatoa (1883) and mt. Pinatubo (1991). Two of the experimental runs is available from 1970 to 2014, capturing the mt. Pinatubo erruption with no vulcanic forcing, or 90% SO2 and 10% SO4 injection. The last experimental run is from 1850 to 1899, capturing Krakatoa with vulcanic forcing.\n",
    "\n"
   ]
  },
  {
   "cell_type": "markdown",
   "id": "1aa50ad0-cbcd-4823-a4a2-2257fae1d6ee",
   "metadata": {},
   "source": [
    "### **2.0 Methods**"
   ]
  },
  {
   "cell_type": "markdown",
   "id": "a5bd2855-d651-4ce3-b416-6739ee463a84",
   "metadata": {},
   "source": [
    "#### 2.1 Importing packages"
   ]
  },
  {
   "cell_type": "code",
   "execution_count": 1,
   "id": "9989e606-39d3-4e0d-a9eb-ffcb99d97bfe",
   "metadata": {},
   "outputs": [],
   "source": [
    "import xarray as xr\n",
    "xr.set_options(display_style='html')\n",
    "import intake\n",
    "import cftime\n",
    "import matplotlib.pyplot as plt\n",
    "import cartopy.crs as ccrs\n",
    "import numpy as np\n",
    "%matplotlib inline"
   ]
  },
  {
   "cell_type": "markdown",
   "id": "abf8f373-0881-431b-b0fc-9961fb6a6ecd",
   "metadata": {},
   "source": [
    "#### 2.2 Accessing data from bucket"
   ]
  },
  {
   "cell_type": "code",
   "execution_count": 2,
   "id": "21d2e0d8-48d6-45eb-8919-860c54922f06",
   "metadata": {},
   "outputs": [],
   "source": [
    "import s3fs\n",
    "s3 = s3fs.S3FileSystem(key=\"K1CQ7M1DMTLUFK182APD\", \n",
    "                       secret=\"3JuZAQm5I03jtpijCpHOdkAsJDNLNfZxBpM15Pi0\", \n",
    "                       client_kwargs=dict(endpoint_url=\"https://rgw.met.no\"))"
   ]
  },
  {
   "cell_type": "code",
   "execution_count": 5,
   "id": "5144cd00-4413-431d-a821-dc7b7d2c1314",
   "metadata": {},
   "outputs": [],
   "source": [
    "#List of files and variables\n",
    "\n",
    "#Present day, Pinatubo \n",
    "#From experiment 14\n",
    "#Columb O3\n",
    "o3_cb_14 = 's3://escience2022/Zhihong/NFHISTnorpddmsbc_tropstratchem_f09_mg17_20220105_test14/cb_O3.NFHISTnorpddmsbc_tropstratchem_f09_mg17_20220105_test14.cam.h0.197001-201412.nc'\n",
    "#Temperature\n",
    "t_14 = 's3://escience2022/Zhihong/NFHISTnorpddmsbc_tropstratchem_f09_mg17_20220105_test14/T.NFHISTnorpddmsbc_tropstratchem_f09_mg17_20220105_test14.cam.h0.197001-201412.nc'\n",
    "#Columb Sulfate\n",
    "so4_cb_14 = 's3://escience2022/Zhihong/NFHISTnorpddmsbc_tropstratchem_f09_mg17_20220105_test14/cb_SULFATE.NFHISTnorpddmsbc_tropstratchem_f09_mg17_20220105_test14.cam.h0.197001-201412.nc'\n",
    "#AOD sulfate \n",
    "aod_14 = 's3://escience2022/Zhihong/NFHISTnorpddmsbc_tropstratchem_f09_mg17_20220105_test14/D550_SO4.NFHISTnorpddmsbc_tropstratchem_f09_mg17_20220105_test14.cam.h0.197001-201412.nc'\n",
    "#Ozone layers\n",
    "o3_14 = 's3://escience2022/Zhihong/NFHISTnorpddmsbc_tropstratchem_f09_mg17_20220105_test14/O3.NFHISTnorpddmsbc_tropstratchem_f09_mg17_20220105_test14.cam.h0.197001-201412.nc'\n",
    "#Sulfate in layers\n",
    "so4_14 = 's3://escience2022/Zhihong/NFHISTnorpddmsbc_tropstratchem_f09_mg17_20220105_test14/mmr_SULFATE.NFHISTnorpddmsbc_tropstratchem_f09_mg17_20220105_test14.cam.h0.197001-201412.nc'\n",
    "#SO2\n",
    "so2_14 = 's3://escience2022/Zhihong/NFHISTnorpddmsbc_tropstratchem_f09_mg17_20220105_test14/SO2.NFHISTnorpddmsbc_tropstratchem_f09_mg17_20220105_test14.cam.h0.197001-201412.nc'\n",
    "\n",
    "#From experiment 16\n",
    "#Columb O3\n",
    "o3_cb_16 = 's3://escience2022/Zhihong/NFHISTnorpddmsbc_tropstratchem_f09_mg17_20220105_test16/cb_O3.NFHISTnorpddmsbc_tropstratchem_f09_mg17_20220105_test16.cam.h0.197001-201412.nc'\n",
    "#Ozone layers\n",
    "o3_16 = 's3://escience2022/Zhihong/NFHISTnorpddmsbc_tropstratchem_f09_mg17_20220105_test16/O3.NFHISTnorpddmsbc_tropstratchem_f09_mg17_20220105_test16.cam.h0.197001-201412.nc'\n",
    "\n",
    "\n",
    "#Pre-CFC's, Krakatao\n",
    "#Columb O3\n",
    "o3_pre = 's3://escience2022/Zhihong/NHISTvsls/cb_O3.NHISTvsls_tropstratchem_prep_f09_nt14_20220223_test01.cam.h0.185001-189912.nc'\n",
    "#AOD sulfate\n",
    "aod_pre = 's3://escience2022/Zhihong/NHISTvsls/D550_SO4.NHISTvsls_tropstratchem_prep_f09_nt14_20220223_test01.cam.h0.185001-189912.nc'\n",
    "#Sulfate in layers\n",
    "so4_pre = 's3://escience2022/Zhihong/NHISTvsls/mmr_SULFATE.NHISTvsls_tropstratchem_prep_f09_nt14_20220223_test01.cam.h0.185001-189912.nc'\n",
    "#O3 in layers\n",
    "o3_pre_l = 's3://escience2022/Zhihong/NHISTvsls/O3.NHISTvsls_tropstratchem_prep_f09_nt14_20220223_test01.cam.h0.185001-189912.nc'\n",
    "\n"
   ]
  },
  {
   "cell_type": "markdown",
   "id": "064e6ecc-e417-471c-a6fc-85ca3cebbe08",
   "metadata": {},
   "source": [
    "#### 2.3 Analysis method"
   ]
  },
  {
   "cell_type": "markdown",
   "id": "f478b316-8c95-4476-9291-93e3d6f1b864",
   "metadata": {},
   "source": [
    "##### 2.3.1 Weighted means"
   ]
  },
  {
   "cell_type": "code",
   "execution_count": 6,
   "id": "4ca5f521-19ca-41f7-89df-66a91f07ae13",
   "metadata": {},
   "outputs": [],
   "source": [
    "def computeWeightedMean(data):\n",
    "    # Compute weights based on the xarray you use\n",
    "    weights = np.cos(np.deg2rad(data.lat))\n",
    "    weights.name = \"weights\"\n",
    "    # Compute weighted mean\n",
    "    air_weighted = data.weighted(weights)\n",
    "    weighted_mean = air_weighted.mean((\"lon\", \"lat\"))\n",
    "    return weighted_mean"
   ]
  },
  {
   "cell_type": "markdown",
   "id": "85daf6c5-d3dd-488a-9f84-26a79ff6abee",
   "metadata": {},
   "source": [
    "##### 2.3.2 Anomalies and climatologies"
   ]
  },
  {
   "cell_type": "code",
   "execution_count": 7,
   "id": "4981014f-f3fc-4b19-b72d-2c1cc778847c",
   "metadata": {},
   "outputs": [],
   "source": [
    "def calc_monthly_anomaly(data,end_prior_eruption):\n",
    "    start = data.time[0].values\n",
    "    end_prior_eruption = cftime.DatetimeNoLeap(end_prior_eruption,1,15)\n",
    "    ds_post_eruption = data\n",
    "    ds_climatology = data.sel(time=slice(start,end_prior_eruption)).groupby('time.month').mean('time', keep_attrs=True)\n",
    "    ds_anomaly = ds_post_eruption.groupby('time.month') - ds_climatology\n",
    "    ds_anomaly.attrs = ds_climatology.attrs\n",
    "    return ds_anomaly"
   ]
  },
  {
   "cell_type": "code",
   "execution_count": null,
   "id": "927dd499-15af-4625-9048-59cff4f69770",
   "metadata": {},
   "outputs": [],
   "source": []
  },
  {
   "cell_type": "markdown",
   "id": "470c2693-f9b9-4729-9888-6edd6a952d75",
   "metadata": {},
   "source": [
    "##### 2.3.3 Time periods"
   ]
  },
  {
   "cell_type": "code",
   "execution_count": 9,
   "id": "11a5c569-7ce6-415f-a93c-a19e414765ba",
   "metadata": {},
   "outputs": [],
   "source": [
    "#Pinatubo\n",
    "start_p = cftime.DatetimeNoLeap(1985,1,15)\n",
    "end_prior_eruption_p = cftime.DatetimeNoLeap(1991,1,15)\n",
    "end_ = cftime.DatetimeNoLeap(1996,1,15)\n",
    "\n",
    "#Krakatao\n",
    "start_k = cftime.DatetimeNoLeap(1878,1,15)\n",
    "end_prior_eruption_k = cftime.DatetimeNoLeap(1882,1,15)\n",
    "end_k = cftime.DatetimeNoLeap(1887,1,15)"
   ]
  },
  {
   "cell_type": "markdown",
   "id": "691e6550-a2f9-4e44-916c-7a18072c5c68",
   "metadata": {},
   "source": [
    "### **3.0 Results and Discussion**"
   ]
  },
  {
   "cell_type": "markdown",
   "id": "b64273e0-7ebf-4035-9621-83726937b8fd",
   "metadata": {},
   "source": [
    "text and code\n"
   ]
  },
  {
   "cell_type": "code",
   "execution_count": null,
   "id": "f9fe5304-5228-4636-b577-a6503f282acb",
   "metadata": {},
   "outputs": [],
   "source": []
  },
  {
   "cell_type": "markdown",
   "id": "ae776c4d-726a-40ba-afa5-38a962dfee22",
   "metadata": {},
   "source": [
    "### **4.0 Conclusion**"
   ]
  },
  {
   "cell_type": "markdown",
   "id": "bf335bbf-b3ff-40ef-8b9d-13cd9450918a",
   "metadata": {},
   "source": [
    "text"
   ]
  },
  {
   "cell_type": "code",
   "execution_count": null,
   "id": "750a908f-005f-4657-bea5-f4098a609209",
   "metadata": {},
   "outputs": [],
   "source": []
  }
 ],
 "metadata": {
  "kernelspec": {
   "display_name": "Python 3 (ipykernel)",
   "language": "python",
   "name": "python3"
  },
  "language_info": {
   "codemirror_mode": {
    "name": "ipython",
    "version": 3
   },
   "file_extension": ".py",
   "mimetype": "text/x-python",
   "name": "python",
   "nbconvert_exporter": "python",
   "pygments_lexer": "ipython3",
   "version": "3.9.13"
  }
 },
 "nbformat": 4,
 "nbformat_minor": 5
}
