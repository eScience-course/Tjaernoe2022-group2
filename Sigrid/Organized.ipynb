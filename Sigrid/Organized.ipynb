{
 "cells": [
  {
   "cell_type": "code",
   "execution_count": 1,
   "id": "54324311-85be-43da-aefe-1ba408eb0c21",
   "metadata": {},
   "outputs": [],
   "source": [
    "#Importing packages\n",
    "\n",
    "import xarray as xr\n",
    "xr.set_options(display_style='html')\n",
    "import intake\n",
    "import cftime\n",
    "import matplotlib.pyplot as plt\n",
    "import cartopy.crs as ccrs\n",
    "import numpy as np\n",
    "%matplotlib inline"
   ]
  },
  {
   "cell_type": "code",
   "execution_count": 2,
   "id": "477c9cba-7b9d-44fb-8d9f-ba28c1ae1f94",
   "metadata": {},
   "outputs": [],
   "source": [
    "#Reading files from bucket\n",
    "\n",
    "import s3fs\n",
    "s3 = s3fs.S3FileSystem(key=\"K1CQ7M1DMTLUFK182APD\", \n",
    "                       secret=\"3JuZAQm5I03jtpijCpHOdkAsJDNLNfZxBpM15Pi0\", \n",
    "                       client_kwargs=dict(endpoint_url=\"https://rgw.met.no\"))\n",
    "s3.ls('escience2022');"
   ]
  },
  {
   "cell_type": "code",
   "execution_count": 3,
   "id": "64721e02-c4b0-481d-aa49-f68cbd76daf9",
   "metadata": {},
   "outputs": [],
   "source": [
    "def computeWeightedMean(ds):\n",
    "    # Compute weights based on the xarray you pass\n",
    "    weights = np.cos(np.deg2rad(ds.lat))\n",
    "    weights.name = \"weights\"\n",
    "    # Compute weighted mean\n",
    "    air_weighted = ds.weighted(weights)\n",
    "    weighted_mean = air_weighted.mean((\"lon\", \"lat\"))\n",
    "    return weighted_mean"
   ]
  },
  {
   "cell_type": "code",
   "execution_count": 4,
   "id": "a04b1208-a1b6-4123-9d0d-8b423905a92c",
   "metadata": {},
   "outputs": [],
   "source": [
    "def multi_plot(data,yr,cs):\n",
    "    proj_plot = ccrs.Robinson(central_longitude=0, globe=None)\n",
    "\n",
    "    p = data.sel(time = data.time.dt.year.isin([yr])).squeeze().plot(x='lon', y='lat',\n",
    "                                                                     transform=ccrs.PlateCarree(),\n",
    "                                                                     #aspect=dso4_3.dims[\"lon\"] / dso4_3.dims[\"lat\"],  # for a sensible figsize\n",
    "                                                                     subplot_kws={\"projection\": proj_plot},\n",
    "                                                                     col='time', col_wrap=4, robust=True, cmap=cs)\n",
    "    # We have to set the map's options on all four axes\n",
    "    for ax,i in zip(p.axes.flat,  data.time.sel(time = data.time.dt.year.isin([yr])).values):\n",
    "        ax.coastlines()\n",
    "        ax.set_title(i.strftime(\"%B %Y\"), fontsize=18)"
   ]
  },
  {
   "cell_type": "code",
   "execution_count": 5,
   "id": "e0bbca18-586f-478d-8537-b9f5ae26467b",
   "metadata": {},
   "outputs": [],
   "source": [
    "def calc_monthly_anomaly(ds,end_prior_eruption):\n",
    "    start = ds.time[0].values\n",
    "    end_prior_eruption = cftime.DatetimeNoLeap(end_prior_eruption,1,15)\n",
    "    ds_post_eruption = ds\n",
    "    ds_climatology = ds.sel(time=slice(start,end_prior_eruption)).groupby('time.month').mean('time', keep_attrs=True)\n",
    "    ds_anomaly = ds_post_eruption.groupby('time.month') - ds_climatology\n",
    "    ds_anomaly.attrs = ds_climatology.attrs\n",
    "    return ds_anomaly"
   ]
  },
  {
   "cell_type": "code",
   "execution_count": 6,
   "id": "36334dee-a7c8-4a90-95cd-5690f13fd2de",
   "metadata": {},
   "outputs": [],
   "source": [
    "#Opening files\n",
    "\n",
    "#Present day, Pinatubo \n",
    "#From experiment 14\n",
    "#Columb O3\n",
    "o3_cb_14 = 's3://escience2022/Zhihong/NFHISTnorpddmsbc_tropstratchem_f09_mg17_20220105_test14/cb_O3.NFHISTnorpddmsbc_tropstratchem_f09_mg17_20220105_test14.cam.h0.197001-201412.nc'\n",
    "#Temperature\n",
    "t_14 = 's3://escience2022/Zhihong/NFHISTnorpddmsbc_tropstratchem_f09_mg17_20220105_test14/T.NFHISTnorpddmsbc_tropstratchem_f09_mg17_20220105_test14.cam.h0.197001-201412.nc'\n",
    "#Columb Sulfate\n",
    "so4_cb_14 = 's3://escience2022/Zhihong/NFHISTnorpddmsbc_tropstratchem_f09_mg17_20220105_test14/cb_SULFATE.NFHISTnorpddmsbc_tropstratchem_f09_mg17_20220105_test14.cam.h0.197001-201412.nc'\n",
    "#AOD sulfate \n",
    "aod_14 = 's3://escience2022/Zhihong/NFHISTnorpddmsbc_tropstratchem_f09_mg17_20220105_test14/D550_SO4.NFHISTnorpddmsbc_tropstratchem_f09_mg17_20220105_test14.cam.h0.197001-201412.nc'\n",
    "#Ozone layers\n",
    "o3_14 = 's3://escience2022/Zhihong/NFHISTnorpddmsbc_tropstratchem_f09_mg17_20220105_test14/O3.NFHISTnorpddmsbc_tropstratchem_f09_mg17_20220105_test14.cam.h0.197001-201412.nc'\n",
    "#Sulfate in layers\n",
    "so4_14 = 's3://escience2022/Zhihong/NFHISTnorpddmsbc_tropstratchem_f09_mg17_20220105_test14/mmr_SULFATE.NFHISTnorpddmsbc_tropstratchem_f09_mg17_20220105_test14.cam.h0.197001-201412.nc'\n",
    "#SO2\n",
    "so2_14 = 's3://escience2022/Zhihong/NFHISTnorpddmsbc_tropstratchem_f09_mg17_20220105_test14/SO2.NFHISTnorpddmsbc_tropstratchem_f09_mg17_20220105_test14.cam.h0.197001-201412.nc'\n",
    "\n",
    "\n",
    "\n",
    "#From experiment 16\n",
    "#Columb O3\n",
    "o3_cb_16 = 's3://escience2022/Zhihong/NFHISTnorpddmsbc_tropstratchem_f09_mg17_20220105_test16/cb_O3.NFHISTnorpddmsbc_tropstratchem_f09_mg17_20220105_test16.cam.h0.197001-201412.nc'\n",
    "o3_16 = 's3://escience2022/Zhihong/NFHISTnorpddmsbc_tropstratchem_f09_mg17_20220105_test16/O3.NFHISTnorpddmsbc_tropstratchem_f09_mg17_20220105_test16.cam.h0.197001-201412.nc'\n",
    "\n",
    "\n",
    "#Present day, Krakatao\n",
    "#Columb O3\n",
    "o3_his = 's3://escience2022/Zhihong/NHISTvsls/cb_O3.NHISTvsls_tropstratchem_prep_f09_nt14_20220223_test01.cam.h0.185001-189912.nc'\n",
    "#AOD sulfate\n",
    "aod_his = 's3://escience2022/Zhihong/NHISTvsls/D550_SO4.NHISTvsls_tropstratchem_prep_f09_nt14_20220223_test01.cam.h0.185001-189912.nc'\n",
    "#Sulfate in layers\n",
    "so4_his = 's3://escience2022/Zhihong/NHISTvsls/mmr_SULFATE.NHISTvsls_tropstratchem_prep_f09_nt14_20220223_test01.cam.h0.185001-189912.nc'\n",
    "#O3 in layers\n",
    "o3_his_l = 's3://escience2022/Zhihong/NHISTvsls/O3.NHISTvsls_tropstratchem_prep_f09_nt14_20220223_test01.cam.h0.185001-189912.nc'\n",
    "\n"
   ]
  },
  {
   "cell_type": "code",
   "execution_count": 14,
   "id": "1116b4bf-b30f-49c0-a7c2-c7453925350e",
   "metadata": {},
   "outputs": [],
   "source": [
    "def north_multi_plot(data,yr,cs):\n",
    "    proj_plot = ccrs.Orthographic(0, 90)\n",
    "\n",
    "    p = data.sel(time = data.time.dt.year.isin([yr])).squeeze().plot(x='lon', y='lat',\n",
    "                                                                     transform=ccrs.PlateCarree(),levels=np.linspace(-1.5e-6,1.5e-6,31),\n",
    "                                                                     #aspect=anom.dims[\"lon\"] / anom.dims[\"lat\"],  # for a sensible figsize\n",
    "                                                                     subplot_kws={\"projection\": proj_plot},\n",
    "                                                                     col='time', col_wrap=6, robust=True, cmap=cs)\n",
    "    # We have to set the map's options on all four axes\n",
    "    for ax,i in zip(p.axes.flat,  data.time.sel(time = data.time.dt.year.isin([yr])).values):\n",
    "        ax.coastlines()\n",
    "        ax.set_title(i.strftime(\"%B %Y\"), fontsize=18)\n",
    "        \n",
    "    "
   ]
  },
  {
   "cell_type": "code",
   "execution_count": 8,
   "id": "1dae760a-a6af-46a5-9622-d1c3f5b8586e",
   "metadata": {},
   "outputs": [],
   "source": [
    "dso3= xr.open_dataset(s3.open(o3_14))\n",
    "dso3.time.values;\n",
    "ds_o3=dso3['O3']"
   ]
  },
  {
   "cell_type": "code",
   "execution_count": 9,
   "id": "4477603b-cb59-4132-9c2e-c115be858840",
   "metadata": {},
   "outputs": [],
   "source": [
    "dso3_16= xr.open_dataset(s3.open(o3_16))\n",
    "dso3_16.time.values;\n",
    "dso3=dso3_16['O3']"
   ]
  },
  {
   "cell_type": "code",
   "execution_count": 10,
   "id": "12822ad0-593a-4053-a73b-a5c08df77a4c",
   "metadata": {},
   "outputs": [],
   "source": [
    "dso3_his= xr.open_dataset(s3.open(o3_his_l))\n",
    "dso3_his.time.values;\n",
    "dso3_lhis=dso3_his['O3']"
   ]
  },
  {
   "cell_type": "code",
   "execution_count": 16,
   "id": "1ea82998-2300-4eb6-9c05-818470ce9a40",
   "metadata": {},
   "outputs": [
    {
     "ename": "ValueError",
     "evalue": "Number of rows must be a positive integer, not 0",
     "output_type": "error",
     "traceback": [
      "\u001b[0;31m---------------------------------------------------------------------------\u001b[0m",
      "\u001b[0;31mValueError\u001b[0m                                Traceback (most recent call last)",
      "Input \u001b[0;32mIn [16]\u001b[0m, in \u001b[0;36m<cell line: 27>\u001b[0;34m()\u001b[0m\n\u001b[1;32m     23\u001b[0m anomhis\u001b[38;5;241m=\u001b[39mcalc_monthly_anomaly(dso3_his2,\u001b[38;5;241m1882\u001b[39m)\n\u001b[1;32m     25\u001b[0m \u001b[38;5;66;03m#anom=anom14-anom16\u001b[39;00m\n\u001b[0;32m---> 27\u001b[0m \u001b[43mnorth_multi_plot\u001b[49m\u001b[43m(\u001b[49m\u001b[43manomhis\u001b[49m\u001b[43m,\u001b[49m\u001b[38;5;241;43m1992\u001b[39;49m\u001b[43m,\u001b[49m\u001b[38;5;124;43m'\u001b[39;49m\u001b[38;5;124;43mPiYG\u001b[39;49m\u001b[38;5;124;43m'\u001b[39;49m\u001b[43m)\u001b[49m\n",
      "Input \u001b[0;32mIn [14]\u001b[0m, in \u001b[0;36mnorth_multi_plot\u001b[0;34m(data, yr, cs)\u001b[0m\n\u001b[1;32m      1\u001b[0m \u001b[38;5;28;01mdef\u001b[39;00m \u001b[38;5;21mnorth_multi_plot\u001b[39m(data,yr,cs):\n\u001b[1;32m      2\u001b[0m     proj_plot \u001b[38;5;241m=\u001b[39m ccrs\u001b[38;5;241m.\u001b[39mOrthographic(\u001b[38;5;241m0\u001b[39m, \u001b[38;5;241m90\u001b[39m)\n\u001b[0;32m----> 4\u001b[0m     p \u001b[38;5;241m=\u001b[39m \u001b[43mdata\u001b[49m\u001b[38;5;241;43m.\u001b[39;49m\u001b[43msel\u001b[49m\u001b[43m(\u001b[49m\u001b[43mtime\u001b[49m\u001b[43m \u001b[49m\u001b[38;5;241;43m=\u001b[39;49m\u001b[43m \u001b[49m\u001b[43mdata\u001b[49m\u001b[38;5;241;43m.\u001b[39;49m\u001b[43mtime\u001b[49m\u001b[38;5;241;43m.\u001b[39;49m\u001b[43mdt\u001b[49m\u001b[38;5;241;43m.\u001b[39;49m\u001b[43myear\u001b[49m\u001b[38;5;241;43m.\u001b[39;49m\u001b[43misin\u001b[49m\u001b[43m(\u001b[49m\u001b[43m[\u001b[49m\u001b[43myr\u001b[49m\u001b[43m]\u001b[49m\u001b[43m)\u001b[49m\u001b[43m)\u001b[49m\u001b[38;5;241;43m.\u001b[39;49m\u001b[43msqueeze\u001b[49m\u001b[43m(\u001b[49m\u001b[43m)\u001b[49m\u001b[38;5;241;43m.\u001b[39;49m\u001b[43mplot\u001b[49m\u001b[43m(\u001b[49m\u001b[43mx\u001b[49m\u001b[38;5;241;43m=\u001b[39;49m\u001b[38;5;124;43m'\u001b[39;49m\u001b[38;5;124;43mlon\u001b[39;49m\u001b[38;5;124;43m'\u001b[39;49m\u001b[43m,\u001b[49m\u001b[43m \u001b[49m\u001b[43my\u001b[49m\u001b[38;5;241;43m=\u001b[39;49m\u001b[38;5;124;43m'\u001b[39;49m\u001b[38;5;124;43mlat\u001b[39;49m\u001b[38;5;124;43m'\u001b[39;49m\u001b[43m,\u001b[49m\n\u001b[1;32m      5\u001b[0m \u001b[43m                                                                     \u001b[49m\u001b[43mtransform\u001b[49m\u001b[38;5;241;43m=\u001b[39;49m\u001b[43mccrs\u001b[49m\u001b[38;5;241;43m.\u001b[39;49m\u001b[43mPlateCarree\u001b[49m\u001b[43m(\u001b[49m\u001b[43m)\u001b[49m\u001b[43m,\u001b[49m\u001b[43mlevels\u001b[49m\u001b[38;5;241;43m=\u001b[39;49m\u001b[43mnp\u001b[49m\u001b[38;5;241;43m.\u001b[39;49m\u001b[43mlinspace\u001b[49m\u001b[43m(\u001b[49m\u001b[38;5;241;43m-\u001b[39;49m\u001b[38;5;241;43m1.5e-6\u001b[39;49m\u001b[43m,\u001b[49m\u001b[38;5;241;43m1.5e-6\u001b[39;49m\u001b[43m,\u001b[49m\u001b[38;5;241;43m31\u001b[39;49m\u001b[43m)\u001b[49m\u001b[43m,\u001b[49m\n\u001b[1;32m      6\u001b[0m \u001b[43m                                                                     \u001b[49m\u001b[38;5;66;43;03m#aspect=anom.dims[\"lon\"] / anom.dims[\"lat\"],  # for a sensible figsize\u001b[39;49;00m\n\u001b[1;32m      7\u001b[0m \u001b[43m                                                                     \u001b[49m\u001b[43msubplot_kws\u001b[49m\u001b[38;5;241;43m=\u001b[39;49m\u001b[43m{\u001b[49m\u001b[38;5;124;43m\"\u001b[39;49m\u001b[38;5;124;43mprojection\u001b[39;49m\u001b[38;5;124;43m\"\u001b[39;49m\u001b[43m:\u001b[49m\u001b[43m \u001b[49m\u001b[43mproj_plot\u001b[49m\u001b[43m}\u001b[49m\u001b[43m,\u001b[49m\n\u001b[1;32m      8\u001b[0m \u001b[43m                                                                     \u001b[49m\u001b[43mcol\u001b[49m\u001b[38;5;241;43m=\u001b[39;49m\u001b[38;5;124;43m'\u001b[39;49m\u001b[38;5;124;43mtime\u001b[39;49m\u001b[38;5;124;43m'\u001b[39;49m\u001b[43m,\u001b[49m\u001b[43m \u001b[49m\u001b[43mcol_wrap\u001b[49m\u001b[38;5;241;43m=\u001b[39;49m\u001b[38;5;241;43m6\u001b[39;49m\u001b[43m,\u001b[49m\u001b[43m \u001b[49m\u001b[43mrobust\u001b[49m\u001b[38;5;241;43m=\u001b[39;49m\u001b[38;5;28;43;01mTrue\u001b[39;49;00m\u001b[43m,\u001b[49m\u001b[43m \u001b[49m\u001b[43mcmap\u001b[49m\u001b[38;5;241;43m=\u001b[39;49m\u001b[43mcs\u001b[49m\u001b[43m)\u001b[49m\n\u001b[1;32m      9\u001b[0m     \u001b[38;5;66;03m# We have to set the map's options on all four axes\u001b[39;00m\n\u001b[1;32m     10\u001b[0m     \u001b[38;5;28;01mfor\u001b[39;00m ax,i \u001b[38;5;129;01min\u001b[39;00m \u001b[38;5;28mzip\u001b[39m(p\u001b[38;5;241m.\u001b[39maxes\u001b[38;5;241m.\u001b[39mflat,  data\u001b[38;5;241m.\u001b[39mtime\u001b[38;5;241m.\u001b[39msel(time \u001b[38;5;241m=\u001b[39m data\u001b[38;5;241m.\u001b[39mtime\u001b[38;5;241m.\u001b[39mdt\u001b[38;5;241m.\u001b[39myear\u001b[38;5;241m.\u001b[39misin([yr]))\u001b[38;5;241m.\u001b[39mvalues):\n",
      "File \u001b[0;32m/srv/conda/envs/notebook/lib/python3.9/site-packages/xarray/plot/plot.py:868\u001b[0m, in \u001b[0;36m_PlotMethods.__call__\u001b[0;34m(self, **kwargs)\u001b[0m\n\u001b[1;32m    867\u001b[0m \u001b[38;5;28;01mdef\u001b[39;00m \u001b[38;5;21m__call__\u001b[39m(\u001b[38;5;28mself\u001b[39m, \u001b[38;5;241m*\u001b[39m\u001b[38;5;241m*\u001b[39mkwargs):\n\u001b[0;32m--> 868\u001b[0m     \u001b[38;5;28;01mreturn\u001b[39;00m \u001b[43mplot\u001b[49m\u001b[43m(\u001b[49m\u001b[38;5;28;43mself\u001b[39;49m\u001b[38;5;241;43m.\u001b[39;49m\u001b[43m_da\u001b[49m\u001b[43m,\u001b[49m\u001b[43m \u001b[49m\u001b[38;5;241;43m*\u001b[39;49m\u001b[38;5;241;43m*\u001b[39;49m\u001b[43mkwargs\u001b[49m\u001b[43m)\u001b[49m\n",
      "File \u001b[0;32m/srv/conda/envs/notebook/lib/python3.9/site-packages/xarray/plot/plot.py:334\u001b[0m, in \u001b[0;36mplot\u001b[0;34m(darray, row, col, col_wrap, ax, hue, rtol, subplot_kws, **kwargs)\u001b[0m\n\u001b[1;32m    330\u001b[0m     plotfunc \u001b[38;5;241m=\u001b[39m hist\n\u001b[1;32m    332\u001b[0m kwargs[\u001b[38;5;124m\"\u001b[39m\u001b[38;5;124max\u001b[39m\u001b[38;5;124m\"\u001b[39m] \u001b[38;5;241m=\u001b[39m ax\n\u001b[0;32m--> 334\u001b[0m \u001b[38;5;28;01mreturn\u001b[39;00m \u001b[43mplotfunc\u001b[49m\u001b[43m(\u001b[49m\u001b[43mdarray\u001b[49m\u001b[43m,\u001b[49m\u001b[43m \u001b[49m\u001b[38;5;241;43m*\u001b[39;49m\u001b[38;5;241;43m*\u001b[39;49m\u001b[43mkwargs\u001b[49m\u001b[43m)\u001b[49m\n",
      "File \u001b[0;32m/srv/conda/envs/notebook/lib/python3.9/site-packages/xarray/plot/plot.py:1114\u001b[0m, in \u001b[0;36m_plot2d.<locals>.newplotfunc\u001b[0;34m(darray, x, y, figsize, size, aspect, ax, row, col, col_wrap, xincrease, yincrease, add_colorbar, add_labels, vmin, vmax, cmap, center, robust, extend, levels, infer_intervals, colors, subplot_kws, cbar_ax, cbar_kwargs, xscale, yscale, xticks, yticks, xlim, ylim, norm, **kwargs)\u001b[0m\n\u001b[1;32m   1112\u001b[0m     \u001b[38;5;66;03m# Need the decorated plotting function\u001b[39;00m\n\u001b[1;32m   1113\u001b[0m     allargs[\u001b[38;5;124m\"\u001b[39m\u001b[38;5;124mplotfunc\u001b[39m\u001b[38;5;124m\"\u001b[39m] \u001b[38;5;241m=\u001b[39m \u001b[38;5;28mglobals\u001b[39m()[plotfunc\u001b[38;5;241m.\u001b[39m\u001b[38;5;18m__name__\u001b[39m]\n\u001b[0;32m-> 1114\u001b[0m     \u001b[38;5;28;01mreturn\u001b[39;00m \u001b[43m_easy_facetgrid\u001b[49m\u001b[43m(\u001b[49m\u001b[43mdarray\u001b[49m\u001b[43m,\u001b[49m\u001b[43m \u001b[49m\u001b[43mkind\u001b[49m\u001b[38;5;241;43m=\u001b[39;49m\u001b[38;5;124;43m\"\u001b[39;49m\u001b[38;5;124;43mdataarray\u001b[39;49m\u001b[38;5;124;43m\"\u001b[39;49m\u001b[43m,\u001b[49m\u001b[43m \u001b[49m\u001b[38;5;241;43m*\u001b[39;49m\u001b[38;5;241;43m*\u001b[39;49m\u001b[43mallargs\u001b[49m\u001b[43m)\u001b[49m\n\u001b[1;32m   1116\u001b[0m plt \u001b[38;5;241m=\u001b[39m import_matplotlib_pyplot()\n\u001b[1;32m   1118\u001b[0m \u001b[38;5;28;01mif\u001b[39;00m (\n\u001b[1;32m   1119\u001b[0m     plotfunc\u001b[38;5;241m.\u001b[39m\u001b[38;5;18m__name__\u001b[39m \u001b[38;5;241m==\u001b[39m \u001b[38;5;124m\"\u001b[39m\u001b[38;5;124msurface\u001b[39m\u001b[38;5;124m\"\u001b[39m\n\u001b[1;32m   1120\u001b[0m     \u001b[38;5;129;01mand\u001b[39;00m \u001b[38;5;129;01mnot\u001b[39;00m kwargs\u001b[38;5;241m.\u001b[39mget(\u001b[38;5;124m\"\u001b[39m\u001b[38;5;124m_is_facetgrid\u001b[39m\u001b[38;5;124m\"\u001b[39m, \u001b[38;5;28;01mFalse\u001b[39;00m)\n\u001b[1;32m   1121\u001b[0m     \u001b[38;5;129;01mand\u001b[39;00m ax \u001b[38;5;129;01mis\u001b[39;00m \u001b[38;5;129;01mnot\u001b[39;00m \u001b[38;5;28;01mNone\u001b[39;00m\n\u001b[1;32m   1122\u001b[0m ):\n",
      "File \u001b[0;32m/srv/conda/envs/notebook/lib/python3.9/site-packages/xarray/plot/facetgrid.py:674\u001b[0m, in \u001b[0;36m_easy_facetgrid\u001b[0;34m(data, plotfunc, kind, x, y, row, col, col_wrap, sharex, sharey, aspect, size, subplot_kws, ax, figsize, **kwargs)\u001b[0m\n\u001b[1;32m    671\u001b[0m \u001b[38;5;28;01melif\u001b[39;00m figsize \u001b[38;5;129;01mis\u001b[39;00m \u001b[38;5;129;01mnot\u001b[39;00m \u001b[38;5;28;01mNone\u001b[39;00m:\n\u001b[1;32m    672\u001b[0m     \u001b[38;5;28;01mraise\u001b[39;00m \u001b[38;5;167;01mValueError\u001b[39;00m(\u001b[38;5;124m\"\u001b[39m\u001b[38;5;124mcannot provide both `figsize` and `size` arguments\u001b[39m\u001b[38;5;124m\"\u001b[39m)\n\u001b[0;32m--> 674\u001b[0m g \u001b[38;5;241m=\u001b[39m \u001b[43mFacetGrid\u001b[49m\u001b[43m(\u001b[49m\n\u001b[1;32m    675\u001b[0m \u001b[43m    \u001b[49m\u001b[43mdata\u001b[49m\u001b[38;5;241;43m=\u001b[39;49m\u001b[43mdata\u001b[49m\u001b[43m,\u001b[49m\n\u001b[1;32m    676\u001b[0m \u001b[43m    \u001b[49m\u001b[43mcol\u001b[49m\u001b[38;5;241;43m=\u001b[39;49m\u001b[43mcol\u001b[49m\u001b[43m,\u001b[49m\n\u001b[1;32m    677\u001b[0m \u001b[43m    \u001b[49m\u001b[43mrow\u001b[49m\u001b[38;5;241;43m=\u001b[39;49m\u001b[43mrow\u001b[49m\u001b[43m,\u001b[49m\n\u001b[1;32m    678\u001b[0m \u001b[43m    \u001b[49m\u001b[43mcol_wrap\u001b[49m\u001b[38;5;241;43m=\u001b[39;49m\u001b[43mcol_wrap\u001b[49m\u001b[43m,\u001b[49m\n\u001b[1;32m    679\u001b[0m \u001b[43m    \u001b[49m\u001b[43msharex\u001b[49m\u001b[38;5;241;43m=\u001b[39;49m\u001b[43msharex\u001b[49m\u001b[43m,\u001b[49m\n\u001b[1;32m    680\u001b[0m \u001b[43m    \u001b[49m\u001b[43msharey\u001b[49m\u001b[38;5;241;43m=\u001b[39;49m\u001b[43msharey\u001b[49m\u001b[43m,\u001b[49m\n\u001b[1;32m    681\u001b[0m \u001b[43m    \u001b[49m\u001b[43mfigsize\u001b[49m\u001b[38;5;241;43m=\u001b[39;49m\u001b[43mfigsize\u001b[49m\u001b[43m,\u001b[49m\n\u001b[1;32m    682\u001b[0m \u001b[43m    \u001b[49m\u001b[43maspect\u001b[49m\u001b[38;5;241;43m=\u001b[39;49m\u001b[43maspect\u001b[49m\u001b[43m,\u001b[49m\n\u001b[1;32m    683\u001b[0m \u001b[43m    \u001b[49m\u001b[43msize\u001b[49m\u001b[38;5;241;43m=\u001b[39;49m\u001b[43msize\u001b[49m\u001b[43m,\u001b[49m\n\u001b[1;32m    684\u001b[0m \u001b[43m    \u001b[49m\u001b[43msubplot_kws\u001b[49m\u001b[38;5;241;43m=\u001b[39;49m\u001b[43msubplot_kws\u001b[49m\u001b[43m,\u001b[49m\n\u001b[1;32m    685\u001b[0m \u001b[43m\u001b[49m\u001b[43m)\u001b[49m\n\u001b[1;32m    687\u001b[0m \u001b[38;5;28;01mif\u001b[39;00m kind \u001b[38;5;241m==\u001b[39m \u001b[38;5;124m\"\u001b[39m\u001b[38;5;124mline\u001b[39m\u001b[38;5;124m\"\u001b[39m:\n\u001b[1;32m    688\u001b[0m     \u001b[38;5;28;01mreturn\u001b[39;00m g\u001b[38;5;241m.\u001b[39mmap_dataarray_line(plotfunc, x, y, \u001b[38;5;241m*\u001b[39m\u001b[38;5;241m*\u001b[39mkwargs)\n",
      "File \u001b[0;32m/srv/conda/envs/notebook/lib/python3.9/site-packages/xarray/plot/facetgrid.py:169\u001b[0m, in \u001b[0;36mFacetGrid.__init__\u001b[0;34m(self, data, col, row, col_wrap, sharex, sharey, figsize, aspect, size, subplot_kws)\u001b[0m\n\u001b[1;32m    166\u001b[0m     cbar_space \u001b[38;5;241m=\u001b[39m \u001b[38;5;241m1\u001b[39m\n\u001b[1;32m    167\u001b[0m     figsize \u001b[38;5;241m=\u001b[39m (ncol \u001b[38;5;241m*\u001b[39m size \u001b[38;5;241m*\u001b[39m aspect \u001b[38;5;241m+\u001b[39m cbar_space, nrow \u001b[38;5;241m*\u001b[39m size)\n\u001b[0;32m--> 169\u001b[0m fig, axes \u001b[38;5;241m=\u001b[39m \u001b[43mplt\u001b[49m\u001b[38;5;241;43m.\u001b[39;49m\u001b[43msubplots\u001b[49m\u001b[43m(\u001b[49m\n\u001b[1;32m    170\u001b[0m \u001b[43m    \u001b[49m\u001b[43mnrow\u001b[49m\u001b[43m,\u001b[49m\n\u001b[1;32m    171\u001b[0m \u001b[43m    \u001b[49m\u001b[43mncol\u001b[49m\u001b[43m,\u001b[49m\n\u001b[1;32m    172\u001b[0m \u001b[43m    \u001b[49m\u001b[43msharex\u001b[49m\u001b[38;5;241;43m=\u001b[39;49m\u001b[43msharex\u001b[49m\u001b[43m,\u001b[49m\n\u001b[1;32m    173\u001b[0m \u001b[43m    \u001b[49m\u001b[43msharey\u001b[49m\u001b[38;5;241;43m=\u001b[39;49m\u001b[43msharey\u001b[49m\u001b[43m,\u001b[49m\n\u001b[1;32m    174\u001b[0m \u001b[43m    \u001b[49m\u001b[43msqueeze\u001b[49m\u001b[38;5;241;43m=\u001b[39;49m\u001b[38;5;28;43;01mFalse\u001b[39;49;00m\u001b[43m,\u001b[49m\n\u001b[1;32m    175\u001b[0m \u001b[43m    \u001b[49m\u001b[43mfigsize\u001b[49m\u001b[38;5;241;43m=\u001b[39;49m\u001b[43mfigsize\u001b[49m\u001b[43m,\u001b[49m\n\u001b[1;32m    176\u001b[0m \u001b[43m    \u001b[49m\u001b[43msubplot_kw\u001b[49m\u001b[38;5;241;43m=\u001b[39;49m\u001b[43msubplot_kws\u001b[49m\u001b[43m,\u001b[49m\n\u001b[1;32m    177\u001b[0m \u001b[43m\u001b[49m\u001b[43m)\u001b[49m\n\u001b[1;32m    179\u001b[0m \u001b[38;5;66;03m# Set up the lists of names for the row and column facet variables\u001b[39;00m\n\u001b[1;32m    180\u001b[0m col_names \u001b[38;5;241m=\u001b[39m \u001b[38;5;28mlist\u001b[39m(data[col]\u001b[38;5;241m.\u001b[39mto_numpy()) \u001b[38;5;28;01mif\u001b[39;00m col \u001b[38;5;28;01melse\u001b[39;00m []\n",
      "File \u001b[0;32m/srv/conda/envs/notebook/lib/python3.9/site-packages/matplotlib/pyplot.py:1454\u001b[0m, in \u001b[0;36msubplots\u001b[0;34m(nrows, ncols, sharex, sharey, squeeze, subplot_kw, gridspec_kw, **fig_kw)\u001b[0m\n\u001b[1;32m   1321\u001b[0m \u001b[38;5;124;03m\"\"\"\u001b[39;00m\n\u001b[1;32m   1322\u001b[0m \u001b[38;5;124;03mCreate a figure and a set of subplots.\u001b[39;00m\n\u001b[1;32m   1323\u001b[0m \n\u001b[0;32m   (...)\u001b[0m\n\u001b[1;32m   1451\u001b[0m \n\u001b[1;32m   1452\u001b[0m \u001b[38;5;124;03m\"\"\"\u001b[39;00m\n\u001b[1;32m   1453\u001b[0m fig \u001b[38;5;241m=\u001b[39m figure(\u001b[38;5;241m*\u001b[39m\u001b[38;5;241m*\u001b[39mfig_kw)\n\u001b[0;32m-> 1454\u001b[0m axs \u001b[38;5;241m=\u001b[39m \u001b[43mfig\u001b[49m\u001b[38;5;241;43m.\u001b[39;49m\u001b[43msubplots\u001b[49m\u001b[43m(\u001b[49m\u001b[43mnrows\u001b[49m\u001b[38;5;241;43m=\u001b[39;49m\u001b[43mnrows\u001b[49m\u001b[43m,\u001b[49m\u001b[43m \u001b[49m\u001b[43mncols\u001b[49m\u001b[38;5;241;43m=\u001b[39;49m\u001b[43mncols\u001b[49m\u001b[43m,\u001b[49m\u001b[43m \u001b[49m\u001b[43msharex\u001b[49m\u001b[38;5;241;43m=\u001b[39;49m\u001b[43msharex\u001b[49m\u001b[43m,\u001b[49m\u001b[43m \u001b[49m\u001b[43msharey\u001b[49m\u001b[38;5;241;43m=\u001b[39;49m\u001b[43msharey\u001b[49m\u001b[43m,\u001b[49m\n\u001b[1;32m   1455\u001b[0m \u001b[43m                   \u001b[49m\u001b[43msqueeze\u001b[49m\u001b[38;5;241;43m=\u001b[39;49m\u001b[43msqueeze\u001b[49m\u001b[43m,\u001b[49m\u001b[43m \u001b[49m\u001b[43msubplot_kw\u001b[49m\u001b[38;5;241;43m=\u001b[39;49m\u001b[43msubplot_kw\u001b[49m\u001b[43m,\u001b[49m\n\u001b[1;32m   1456\u001b[0m \u001b[43m                   \u001b[49m\u001b[43mgridspec_kw\u001b[49m\u001b[38;5;241;43m=\u001b[39;49m\u001b[43mgridspec_kw\u001b[49m\u001b[43m)\u001b[49m\n\u001b[1;32m   1457\u001b[0m \u001b[38;5;28;01mreturn\u001b[39;00m fig, axs\n",
      "File \u001b[0;32m/srv/conda/envs/notebook/lib/python3.9/site-packages/matplotlib/figure.py:896\u001b[0m, in \u001b[0;36mFigureBase.subplots\u001b[0;34m(self, nrows, ncols, sharex, sharey, squeeze, subplot_kw, gridspec_kw)\u001b[0m\n\u001b[1;32m    894\u001b[0m \u001b[38;5;28;01mif\u001b[39;00m gridspec_kw \u001b[38;5;129;01mis\u001b[39;00m \u001b[38;5;28;01mNone\u001b[39;00m:\n\u001b[1;32m    895\u001b[0m     gridspec_kw \u001b[38;5;241m=\u001b[39m {}\n\u001b[0;32m--> 896\u001b[0m gs \u001b[38;5;241m=\u001b[39m \u001b[38;5;28;43mself\u001b[39;49m\u001b[38;5;241;43m.\u001b[39;49m\u001b[43madd_gridspec\u001b[49m\u001b[43m(\u001b[49m\u001b[43mnrows\u001b[49m\u001b[43m,\u001b[49m\u001b[43m \u001b[49m\u001b[43mncols\u001b[49m\u001b[43m,\u001b[49m\u001b[43m \u001b[49m\u001b[43mfigure\u001b[49m\u001b[38;5;241;43m=\u001b[39;49m\u001b[38;5;28;43mself\u001b[39;49m\u001b[43m,\u001b[49m\u001b[43m \u001b[49m\u001b[38;5;241;43m*\u001b[39;49m\u001b[38;5;241;43m*\u001b[39;49m\u001b[43mgridspec_kw\u001b[49m\u001b[43m)\u001b[49m\n\u001b[1;32m    897\u001b[0m axs \u001b[38;5;241m=\u001b[39m gs\u001b[38;5;241m.\u001b[39msubplots(sharex\u001b[38;5;241m=\u001b[39msharex, sharey\u001b[38;5;241m=\u001b[39msharey, squeeze\u001b[38;5;241m=\u001b[39msqueeze,\n\u001b[1;32m    898\u001b[0m                   subplot_kw\u001b[38;5;241m=\u001b[39msubplot_kw)\n\u001b[1;32m    899\u001b[0m \u001b[38;5;28;01mreturn\u001b[39;00m axs\n",
      "File \u001b[0;32m/srv/conda/envs/notebook/lib/python3.9/site-packages/matplotlib/figure.py:1447\u001b[0m, in \u001b[0;36mFigureBase.add_gridspec\u001b[0;34m(self, nrows, ncols, **kwargs)\u001b[0m\n\u001b[1;32m   1408\u001b[0m \u001b[38;5;124;03m\"\"\"\u001b[39;00m\n\u001b[1;32m   1409\u001b[0m \u001b[38;5;124;03mReturn a `.GridSpec` that has this figure as a parent.  This allows\u001b[39;00m\n\u001b[1;32m   1410\u001b[0m \u001b[38;5;124;03mcomplex layout of Axes in the figure.\u001b[39;00m\n\u001b[0;32m   (...)\u001b[0m\n\u001b[1;32m   1443\u001b[0m \n\u001b[1;32m   1444\u001b[0m \u001b[38;5;124;03m\"\"\"\u001b[39;00m\n\u001b[1;32m   1446\u001b[0m _ \u001b[38;5;241m=\u001b[39m kwargs\u001b[38;5;241m.\u001b[39mpop(\u001b[38;5;124m'\u001b[39m\u001b[38;5;124mfigure\u001b[39m\u001b[38;5;124m'\u001b[39m, \u001b[38;5;28;01mNone\u001b[39;00m)  \u001b[38;5;66;03m# pop in case user has added this...\u001b[39;00m\n\u001b[0;32m-> 1447\u001b[0m gs \u001b[38;5;241m=\u001b[39m \u001b[43mGridSpec\u001b[49m\u001b[43m(\u001b[49m\u001b[43mnrows\u001b[49m\u001b[38;5;241;43m=\u001b[39;49m\u001b[43mnrows\u001b[49m\u001b[43m,\u001b[49m\u001b[43m \u001b[49m\u001b[43mncols\u001b[49m\u001b[38;5;241;43m=\u001b[39;49m\u001b[43mncols\u001b[49m\u001b[43m,\u001b[49m\u001b[43m \u001b[49m\u001b[43mfigure\u001b[49m\u001b[38;5;241;43m=\u001b[39;49m\u001b[38;5;28;43mself\u001b[39;49m\u001b[43m,\u001b[49m\u001b[43m \u001b[49m\u001b[38;5;241;43m*\u001b[39;49m\u001b[38;5;241;43m*\u001b[39;49m\u001b[43mkwargs\u001b[49m\u001b[43m)\u001b[49m\n\u001b[1;32m   1448\u001b[0m \u001b[38;5;28mself\u001b[39m\u001b[38;5;241m.\u001b[39m_gridspecs\u001b[38;5;241m.\u001b[39mappend(gs)\n\u001b[1;32m   1449\u001b[0m \u001b[38;5;28;01mreturn\u001b[39;00m gs\n",
      "File \u001b[0;32m/srv/conda/envs/notebook/lib/python3.9/site-packages/matplotlib/gridspec.py:385\u001b[0m, in \u001b[0;36mGridSpec.__init__\u001b[0;34m(self, nrows, ncols, figure, left, bottom, right, top, wspace, hspace, width_ratios, height_ratios)\u001b[0m\n\u001b[1;32m    382\u001b[0m \u001b[38;5;28mself\u001b[39m\u001b[38;5;241m.\u001b[39mhspace \u001b[38;5;241m=\u001b[39m hspace\n\u001b[1;32m    383\u001b[0m \u001b[38;5;28mself\u001b[39m\u001b[38;5;241m.\u001b[39mfigure \u001b[38;5;241m=\u001b[39m figure\n\u001b[0;32m--> 385\u001b[0m \u001b[38;5;28;43msuper\u001b[39;49m\u001b[43m(\u001b[49m\u001b[43m)\u001b[49m\u001b[38;5;241;43m.\u001b[39;49m\u001b[38;5;21;43m__init__\u001b[39;49m\u001b[43m(\u001b[49m\u001b[43mnrows\u001b[49m\u001b[43m,\u001b[49m\u001b[43m \u001b[49m\u001b[43mncols\u001b[49m\u001b[43m,\u001b[49m\n\u001b[1;32m    386\u001b[0m \u001b[43m                 \u001b[49m\u001b[43mwidth_ratios\u001b[49m\u001b[38;5;241;43m=\u001b[39;49m\u001b[43mwidth_ratios\u001b[49m\u001b[43m,\u001b[49m\n\u001b[1;32m    387\u001b[0m \u001b[43m                 \u001b[49m\u001b[43mheight_ratios\u001b[49m\u001b[38;5;241;43m=\u001b[39;49m\u001b[43mheight_ratios\u001b[49m\u001b[43m)\u001b[49m\n",
      "File \u001b[0;32m/srv/conda/envs/notebook/lib/python3.9/site-packages/matplotlib/gridspec.py:49\u001b[0m, in \u001b[0;36mGridSpecBase.__init__\u001b[0;34m(self, nrows, ncols, height_ratios, width_ratios)\u001b[0m\n\u001b[1;32m     34\u001b[0m \u001b[38;5;124;03m\"\"\"\u001b[39;00m\n\u001b[1;32m     35\u001b[0m \u001b[38;5;124;03mParameters\u001b[39;00m\n\u001b[1;32m     36\u001b[0m \u001b[38;5;124;03m----------\u001b[39;00m\n\u001b[0;32m   (...)\u001b[0m\n\u001b[1;32m     46\u001b[0m \u001b[38;5;124;03m    If not given, all rows will have the same height.\u001b[39;00m\n\u001b[1;32m     47\u001b[0m \u001b[38;5;124;03m\"\"\"\u001b[39;00m\n\u001b[1;32m     48\u001b[0m \u001b[38;5;28;01mif\u001b[39;00m \u001b[38;5;129;01mnot\u001b[39;00m \u001b[38;5;28misinstance\u001b[39m(nrows, Integral) \u001b[38;5;129;01mor\u001b[39;00m nrows \u001b[38;5;241m<\u001b[39m\u001b[38;5;241m=\u001b[39m \u001b[38;5;241m0\u001b[39m:\n\u001b[0;32m---> 49\u001b[0m     \u001b[38;5;28;01mraise\u001b[39;00m \u001b[38;5;167;01mValueError\u001b[39;00m(\n\u001b[1;32m     50\u001b[0m         \u001b[38;5;124mf\u001b[39m\u001b[38;5;124m\"\u001b[39m\u001b[38;5;124mNumber of rows must be a positive integer, not \u001b[39m\u001b[38;5;132;01m{\u001b[39;00mnrows\u001b[38;5;132;01m!r}\u001b[39;00m\u001b[38;5;124m\"\u001b[39m)\n\u001b[1;32m     51\u001b[0m \u001b[38;5;28;01mif\u001b[39;00m \u001b[38;5;129;01mnot\u001b[39;00m \u001b[38;5;28misinstance\u001b[39m(ncols, Integral) \u001b[38;5;129;01mor\u001b[39;00m ncols \u001b[38;5;241m<\u001b[39m\u001b[38;5;241m=\u001b[39m \u001b[38;5;241m0\u001b[39m:\n\u001b[1;32m     52\u001b[0m     \u001b[38;5;28;01mraise\u001b[39;00m \u001b[38;5;167;01mValueError\u001b[39;00m(\n\u001b[1;32m     53\u001b[0m         \u001b[38;5;124mf\u001b[39m\u001b[38;5;124m\"\u001b[39m\u001b[38;5;124mNumber of columns must be a positive integer, not \u001b[39m\u001b[38;5;132;01m{\u001b[39;00mncols\u001b[38;5;132;01m!r}\u001b[39;00m\u001b[38;5;124m\"\u001b[39m)\n",
      "\u001b[0;31mValueError\u001b[0m: Number of rows must be a positive integer, not 0"
     ]
    },
    {
     "data": {
      "text/plain": [
       "<Figure size 1900x0 with 0 Axes>"
      ]
     },
     "metadata": {},
     "output_type": "display_data"
    }
   ],
   "source": [
    "#Plotting ozone anomaly over northern hemisphere\n",
    "#dso3_lev_16=dso3.sel(lev=51, method='nearest').drop('lev')\n",
    "#dso3_lev_14=ds_o3.sel(lev=24, method='nearest').drop('lev')\n",
    "dso3_his2=dso3_lhis.sel(lev=3.6, method='nearest').drop('lev')\n",
    "\n",
    "start = cftime.DatetimeNoLeap(1878,1,15)\n",
    "end_prior_eruption = cftime.DatetimeNoLeap(1882,1,15)\n",
    "end = cftime.DatetimeNoLeap(1887,1,15)\n",
    "\n",
    "#dso3_lev_16.sel(time=slice(start,end_prior_eruption))\n",
    "#dso3_lev_14.sel(time=slice(start,end_prior_eruption))\n",
    "dso3_his2.sel(time=slice(start, end_prior_eruption))\n",
    "\n",
    "\n",
    "#climatology = dso3_lev.sel(time=slice(start, end_prior_eruption)).groupby('time.year').mean('time',keep_attrs=True).mean('year',keep_attrs=True)\n",
    "#annual_mean = dso3_lev.groupby('time.year').mean('time')\n",
    "#anom=dso3_lev-climatology\n",
    "\n",
    "#anom14=calc_monthly_anomaly(dso3_lev_14,1990)\n",
    "\n",
    "#anom16=calc_monthly_anomaly(dso3_lev_16,1990)\n",
    "\n",
    "anomhis=calc_monthly_anomaly(dso3_his2,1882)\n",
    "\n",
    "#anom=anom14-anom16\n",
    "\n",
    "north_multi_plot(anomhis,1992,'PiYG')"
   ]
  },
  {
   "cell_type": "code",
   "execution_count": null,
   "id": "d21bac09-d3a7-42f3-b00e-31b513348f6d",
   "metadata": {},
   "outputs": [],
   "source": [
    "dso4= xr.open_dataset(s3.open(so4_14))\n",
    "dso4.time.values;\n",
    "ds_so4=dso4['mmr_SULFATE']"
   ]
  },
  {
   "cell_type": "code",
   "execution_count": null,
   "id": "1c0f5675-aaf4-444a-b6b5-e863b20a1d55",
   "metadata": {},
   "outputs": [],
   "source": [
    "ds_so4\n"
   ]
  },
  {
   "cell_type": "code",
   "execution_count": null,
   "id": "3b422103-bdf7-4465-96bd-ab58ef0e98a9",
   "metadata": {},
   "outputs": [],
   "source": [
    "dso4_lev=ds_so4.sel(lev=51, method='nearest').drop('lev')"
   ]
  },
  {
   "cell_type": "code",
   "execution_count": null,
   "id": "3f6f65f2-c637-4c55-b79b-5d8e22c4d419",
   "metadata": {},
   "outputs": [],
   "source": [
    "#plotting SO4 \n",
    "\n",
    "#climatology = dso4_lev.sel(time=slice(start, end_prior_eruption)).groupby('time.year').mean('time',keep_attrs=True).mean('year')\n",
    "#annual_mean = dso3_lev.groupby('time.year').mean('time')\n",
    "#anom=dso4_lev-climatology\n",
    "\n",
    "north_multi_plot(dso4_lev,1992, 'hot_r')\n",
    "\n"
   ]
  },
  {
   "cell_type": "code",
   "execution_count": null,
   "id": "52d9abea-0742-40fe-b1e1-b3bfbca7e03d",
   "metadata": {},
   "outputs": [],
   "source": [
    "multi_plot(dso4_lev,(1991,1992),'hot_r')"
   ]
  },
  {
   "cell_type": "code",
   "execution_count": null,
   "id": "4f8f5a6d-c3a8-4bc4-8c06-f8ec403c3983",
   "metadata": {},
   "outputs": [],
   "source": [
    "start = cftime.DatetimeNoLeap(1990,1,15)\n",
    "end_prior_eruption = cftime.DatetimeNoLeap(1991,1,15)\n",
    "end = cftime.DatetimeNoLeap(1996,1,15)"
   ]
  },
  {
   "cell_type": "code",
   "execution_count": null,
   "id": "7b6c39d5-a2b6-4d1a-9bc7-86e7d95bb168",
   "metadata": {},
   "outputs": [],
   "source": [
    "#ds2_so4=ds_so4.mean('lon')\n",
    "north_avrg = computeWeightedMean(ds_so4.where(ds_so4['lat']>60.)).compute()\n",
    "dso4_s = north_avrg.sel(time=slice(start,end))"
   ]
  },
  {
   "cell_type": "code",
   "execution_count": null,
   "id": "5db05ce3-8373-414f-bece-66a758122a41",
   "metadata": {},
   "outputs": [],
   "source": [
    "annual_mean = dso4_s.groupby('time.year').mean('time')\n",
    "\n",
    "annual_means= annual_mean.isel(lev=slice(0,-20))\n",
    "annual_means;"
   ]
  },
  {
   "cell_type": "code",
   "execution_count": null,
   "id": "e4a94f0d-c423-4993-9eda-69ac6aa7b5d7",
   "metadata": {},
   "outputs": [],
   "source": [
    "#Plotting to find the layer where the SO4 aerosol has its max, and when\n",
    "fig, (axs1) = plt.subplots(1, 1, constrained_layout=True, figsize=(20,10))\n",
    "\n",
    "annual_means.plot(label=\"NorESM 14\", ax=axs1,x='year')\n",
    "\n",
    "fig.suptitle('SO4 consentration\\n', fontsize=20)\n",
    "\n",
    "axs1.set_xlabel('Year',fontsize=20)\n",
    "\n",
    "axs1.grid()\n",
    "\n",
    "axs1.set_xlabel('Year', fontsize=20)\n",
    "axs1.set_ylabel('Pressure level', fontsize=20)\n",
    "axs1.tick_params(labelsize=15)\n",
    "\n",
    "plt.gca().invert_yaxis()\n",
    "\n",
    "axs1.set_title(\" Northern Hemisphere yearly mean \\n\" , fontsize=15)\n",
    "\n"
   ]
  },
  {
   "cell_type": "code",
   "execution_count": null,
   "id": "50197978-6bc4-4eaa-8bb0-e042c7b513af",
   "metadata": {},
   "outputs": [],
   "source": [
    "ds_o32=ds_o3.mean('lon')\n",
    "north_avrg = computeWeightedMean(ds_o3.where(ds_o3['lat']>60.)).compute()\n",
    "ds_o33 = north_avrg.sel(time=slice(start,end))"
   ]
  },
  {
   "cell_type": "code",
   "execution_count": null,
   "id": "11ba2cb5-7434-40cf-a3ac-df26752ec33d",
   "metadata": {},
   "outputs": [],
   "source": [
    "annual_mean = ds_o33.groupby('time.year').mean('time')\n",
    "\n",
    "annual_means= annual_mean.isel(lev=slice(0,-20))\n",
    "annual_means;"
   ]
  },
  {
   "cell_type": "code",
   "execution_count": null,
   "id": "23cb9598-717d-47b1-b4b1-fedfbe6ee646",
   "metadata": {},
   "outputs": [],
   "source": [
    "#Plotting to find the layer where the SO2 aerosol has its max, and when\n",
    "fig, (axs1) = plt.subplots(1, 1, constrained_layout=True, figsize=(20,10))\n",
    "\n",
    "annual_means.plot(label=\"NorESM 14\", ax=axs1,x='year')\n",
    "\n",
    "fig.suptitle('Ozone\\n', fontsize=20)\n",
    "\n",
    "axs1.set_xlabel('Year',fontsize=20)\n",
    "\n",
    "axs1.grid()\n",
    "\n",
    "plt.gca().invert_yaxis()\n",
    "\n",
    "axs1.set_title(\" Northern Hemisphere \\n\" , fontsize=15)\n"
   ]
  },
  {
   "cell_type": "code",
   "execution_count": null,
   "id": "4bf16426-33e2-4ee4-b047-89480d893cc8",
   "metadata": {},
   "outputs": [],
   "source": [
    "dso2= xr.open_dataset(s3.open(so2_14))\n",
    "dso2.time.values;\n",
    "dso2_=dso2['SO2']"
   ]
  },
  {
   "cell_type": "code",
   "execution_count": null,
   "id": "b42d7d2f-8a77-4a6a-b0d0-75fb5686bb74",
   "metadata": {},
   "outputs": [],
   "source": [
    "north_avrg = computeWeightedMean(dso2_.where(dso2_['lat']>60.)).compute()\n",
    "dso2_s = north_avrg.sel(time=slice(start,end))"
   ]
  },
  {
   "cell_type": "code",
   "execution_count": null,
   "id": "ed8450b4-9d9b-45bc-9f45-2b1840f01b76",
   "metadata": {},
   "outputs": [],
   "source": [
    "dso2_"
   ]
  },
  {
   "cell_type": "code",
   "execution_count": null,
   "id": "0cb68d81-67fa-4fe7-abb2-6c91bd54fbc3",
   "metadata": {},
   "outputs": [],
   "source": [
    "annual_mean = dso2_s.groupby('time.year').mean('time')\n",
    "\n",
    "annual_means= annual_mean.isel(lev=slice(0,-20))\n",
    "annual_means;"
   ]
  },
  {
   "cell_type": "code",
   "execution_count": null,
   "id": "eaacac66-37dd-4e99-a868-75996ca2a915",
   "metadata": {},
   "outputs": [],
   "source": [
    "#Plotting to find the layer where the SO4 aerosol has its max, and when\n",
    "fig, (axs1) = plt.subplots(1, 1, constrained_layout=True, figsize=(20,10))\n",
    "\n",
    "annual_means.plot(label=\"NorESM 14\", ax=axs1,x='year')\n",
    "\n",
    "fig.suptitle('SO2\\n', fontsize=20)\n",
    "\n",
    "axs1.set_xlabel('Year',fontsize=20)\n",
    "\n",
    "axs1.grid()\n",
    "\n",
    "plt.gca().invert_yaxis()\n",
    "\n",
    "axs1.set_title(\" Northern Hemisphere \\n\" , fontsize=15)"
   ]
  },
  {
   "cell_type": "code",
   "execution_count": null,
   "id": "a816d2f0-ea0d-404e-9373-f9ea7b1c7d16",
   "metadata": {},
   "outputs": [],
   "source": []
  }
 ],
 "metadata": {
  "kernelspec": {
   "display_name": "Python 3 (ipykernel)",
   "language": "python",
   "name": "python3"
  },
  "language_info": {
   "codemirror_mode": {
    "name": "ipython",
    "version": 3
   },
   "file_extension": ".py",
   "mimetype": "text/x-python",
   "name": "python",
   "nbconvert_exporter": "python",
   "pygments_lexer": "ipython3",
   "version": "3.9.13"
  }
 },
 "nbformat": 4,
 "nbformat_minor": 5
}
