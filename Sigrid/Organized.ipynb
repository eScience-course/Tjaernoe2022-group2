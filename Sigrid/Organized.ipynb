{
 "cells": [
  {
   "cell_type": "code",
   "execution_count": 1,
   "id": "54324311-85be-43da-aefe-1ba408eb0c21",
   "metadata": {},
   "outputs": [],
   "source": [
    "#Importing packages\n",
    "\n",
    "import xarray as xr\n",
    "xr.set_options(display_style='html')\n",
    "import intake\n",
    "import cftime\n",
    "import matplotlib.pyplot as plt\n",
    "import cartopy.crs as ccrs\n",
    "import numpy as np\n",
    "%matplotlib inline"
   ]
  },
  {
   "cell_type": "code",
   "execution_count": 2,
   "id": "477c9cba-7b9d-44fb-8d9f-ba28c1ae1f94",
   "metadata": {},
   "outputs": [],
   "source": [
    "#Reading files from bucket\n",
    "\n",
    "import s3fs\n",
    "s3 = s3fs.S3FileSystem(key=\"K1CQ7M1DMTLUFK182APD\", \n",
    "                       secret=\"3JuZAQm5I03jtpijCpHOdkAsJDNLNfZxBpM15Pi0\", \n",
    "                       client_kwargs=dict(endpoint_url=\"https://rgw.met.no\"))\n",
    "s3.ls('escience2022');"
   ]
  },
  {
   "cell_type": "code",
   "execution_count": 3,
   "id": "64721e02-c4b0-481d-aa49-f68cbd76daf9",
   "metadata": {},
   "outputs": [],
   "source": [
    "def computeWeightedMean(ds):\n",
    "    # Compute weights based on the xarray you pass\n",
    "    weights = np.cos(np.deg2rad(ds.lat))\n",
    "    weights.name = \"weights\"\n",
    "    # Compute weighted mean\n",
    "    air_weighted = ds.weighted(weights)\n",
    "    weighted_mean = air_weighted.mean((\"lon\", \"lat\"))\n",
    "    return weighted_mean"
   ]
  },
  {
   "cell_type": "code",
   "execution_count": 4,
   "id": "a04b1208-a1b6-4123-9d0d-8b423905a92c",
   "metadata": {},
   "outputs": [],
   "source": [
    "def multi_plot(data,yr):\n",
    "    proj_plot = ccrs.Robinson(central_longitude=0, globe=None)\n",
    "\n",
    "    p = data.sel(time = data.time.dt.year.isin([yr])).squeeze().plot(x='lon', y='lat', \n",
    "                                                                     transform=ccrs.PlateCarree(),\n",
    "                                                                     #aspect=dso4_3.dims[\"lon\"] / dso4_3.dims[\"lat\"],  # for a sensible figsize\n",
    "                                                                     subplot_kws={\"projection\": proj_plot},\n",
    "                                                                     col='time', col_wrap=4, robust=True, cmap='PiYG')\n",
    "    # We have to set the map's options on all four axes\n",
    "    for ax,i in zip(p.axes.flat,  data.time.sel(time = data.time.dt.year.isin([yr])).values):\n",
    "        ax.coastlines()\n",
    "        ax.set_title(i.strftime(\"%B %Y\"), fontsize=18)"
   ]
  },
  {
   "cell_type": "code",
   "execution_count": 5,
   "id": "36334dee-a7c8-4a90-95cd-5690f13fd2de",
   "metadata": {},
   "outputs": [],
   "source": [
    "#Opening files\n",
    "\n",
    "#Present day, Pinatubo \n",
    "#From experiment 14\n",
    "#Columb O3\n",
    "o3_cb_14 = 's3://escience2022/Zhihong/NFHISTnorpddmsbc_tropstratchem_f09_mg17_20220105_test14/cb_O3.NFHISTnorpddmsbc_tropstratchem_f09_mg17_20220105_test14.cam.h0.197001-201412.nc'\n",
    "#Temperature\n",
    "t_14 = 's3://escience2022/Zhihong/NFHISTnorpddmsbc_tropstratchem_f09_mg17_20220105_test14/T.NFHISTnorpddmsbc_tropstratchem_f09_mg17_20220105_test14.cam.h0.197001-201412.nc'\n",
    "#Columb Sulfate\n",
    "so4_cb_14 = 's3://escience2022/Zhihong/NFHISTnorpddmsbc_tropstratchem_f09_mg17_20220105_test14/cb_SULFATE.NFHISTnorpddmsbc_tropstratchem_f09_mg17_20220105_test14.cam.h0.197001-201412.nc'\n",
    "#AOD sulfate \n",
    "aod_14 = 's3://escience2022/Zhihong/NFHISTnorpddmsbc_tropstratchem_f09_mg17_20220105_test14/D550_SO4.NFHISTnorpddmsbc_tropstratchem_f09_mg17_20220105_test14.cam.h0.197001-201412.nc'\n",
    "#Ozone layers\n",
    "o3_14 = 's3://escience2022/Zhihong/NFHISTnorpddmsbc_tropstratchem_f09_mg17_20220105_test14/O3.NFHISTnorpddmsbc_tropstratchem_f09_mg17_20220105_test14.cam.h0.197001-201412.nc'\n",
    "#Sulfate in layers\n",
    "so4_14 = 's3://escience2022/Zhihong/NFHISTnorpddmsbc_tropstratchem_f09_mg17_20220105_test14/mmr_SULFATE.NFHISTnorpddmsbc_tropstratchem_f09_mg17_20220105_test14.cam.h0.197001-201412.nc'\n",
    "\n",
    "#From experiment 16\n",
    "#Columb O3\n",
    "o3_cb_16 = 's3://escience2022/Zhihong/NFHISTnorpddmsbc_tropstratchem_f09_mg17_20220105_test16/cb_O3.NFHISTnorpddmsbc_tropstratchem_f09_mg17_20220105_test16.cam.h0.197001-201412.nc'\n",
    "\n",
    "\n",
    "\n",
    "#Present day, Krakatao\n",
    "#Columb O3\n",
    "o3_his = 's3://escience2022/Zhihong/NHISTvsls/cb_O3.NHISTvsls_tropstratchem_prep_f09_nt14_20220223_test01.cam.h0.185001-189912.nc'\n",
    "#AOD sulfate\n",
    "aod_his = 's3://escience2022/Zhihong/NHISTvsls/D550_SO4.NHISTvsls_tropstratchem_prep_f09_nt14_20220223_test01.cam.h0.185001-189912.nc'\n",
    "#Sulfate in layers\n",
    "so4_his = 's3://escience2022/Zhihong/NHISTvsls/mmr_SULFATE.NHISTvsls_tropstratchem_prep_f09_nt14_20220223_test01.cam.h0.185001-189912.nc'\n",
    "#O3 in layers\n",
    "o3_his = 's3://escience2022/Zhihong/NHISTvsls/O3.NHISTvsls_tropstratchem_prep_f09_nt14_20220223_test01.cam.h0.185001-189912.nc'\n",
    "\n"
   ]
  },
  {
   "cell_type": "code",
   "execution_count": 6,
   "id": "1116b4bf-b30f-49c0-a7c2-c7453925350e",
   "metadata": {},
   "outputs": [],
   "source": [
    "def north_multi_plot(data,yr):\n",
    "    proj_plot = ccrs.Orthographic(0, 90)\n",
    "\n",
    "    p = data.sel(time = data.time.dt.year.isin([yr])).squeeze().plot(x='lon', y='lat', \n",
    "                                                                     transform=ccrs.PlateCarree(),\n",
    "                                                                     #aspect=anom.dims[\"lon\"] / anom.dims[\"lat\"],  # for a sensible figsize\n",
    "                                                                     subplot_kws={\"projection\": proj_plot},\n",
    "                                                                     col='time', col_wrap=6, robust=True, cmap='PiYG')\n",
    "    # We have to set the map's options on all four axes\n",
    "    for ax,i in zip(p.axes.flat,  data.time.sel(time = data.time.dt.year.isin([yr])).values):\n",
    "        ax.coastlines()\n",
    "        ax.set_title(i.strftime(\"%B %Y\"), fontsize=18)"
   ]
  },
  {
   "cell_type": "code",
   "execution_count": 7,
   "id": "1dae760a-a6af-46a5-9622-d1c3f5b8586e",
   "metadata": {},
   "outputs": [],
   "source": [
    "dso3= xr.open_dataset(s3.open(o3_14))\n",
    "dso3.time.values;\n",
    "ds_o3=dso3['O3']"
   ]
  },
  {
   "cell_type": "code",
   "execution_count": null,
   "id": "1ea82998-2300-4eb6-9c05-818470ce9a40",
   "metadata": {},
   "outputs": [],
   "source": [
    "dso3_lev=ds_o3.sel(lev=3.6, method='nearest').drop('lev')\n",
    "\n",
    "start = cftime.DatetimeNoLeap(1985,1,15)\n",
    "end_prior_eruption = cftime.DatetimeNoLeap(1991,1,15)\n",
    "end = cftime.DatetimeNoLeap(1996,1,15)\n",
    "\n",
    "climatology = dso3_lev.sel(time=slice(start, end_prior_eruption)).groupby('time.year').mean('time',keep_attrs=True).mean('year')\n",
    "#annual_mean = dso3_lev.groupby('time.year').mean('time')\n",
    "anom=dso3_lev-climatology\n",
    "\n",
    "north_multi_plot(anom,1992)"
   ]
  },
  {
   "cell_type": "code",
   "execution_count": null,
   "id": "d21bac09-d3a7-42f3-b00e-31b513348f6d",
   "metadata": {},
   "outputs": [],
   "source": [
    "dso4= xr.open_dataset(s3.open(so4_14))\n",
    "dso4.time.values;\n",
    "ds_so4=dso4['mmr_SULFATE']"
   ]
  },
  {
   "cell_type": "code",
   "execution_count": null,
   "id": "3b422103-bdf7-4465-96bd-ab58ef0e98a9",
   "metadata": {},
   "outputs": [],
   "source": [
    "dso4_lev=ds_so4.sel(lev=51, method='nearest').drop('lev')"
   ]
  },
  {
   "cell_type": "code",
   "execution_count": null,
   "id": "3f6f65f2-c637-4c55-b79b-5d8e22c4d419",
   "metadata": {},
   "outputs": [],
   "source": [
    "#climatology = dso4_lev.sel(time=slice(start, end_prior_eruption)).groupby('time.year').mean('time',keep_attrs=True).mean('year')\n",
    "#annual_mean = dso3_lev.groupby('time.year').mean('time')\n",
    "#anom=dso4_lev-climatology\n",
    "\n",
    "north_multi_plot(dso4_lev,1992)"
   ]
  },
  {
   "cell_type": "code",
   "execution_count": null,
   "id": "52d9abea-0742-40fe-b1e1-b3bfbca7e03d",
   "metadata": {},
   "outputs": [],
   "source": [
    "multi_plot(dso4_lev,((1991),(1992)))"
   ]
  },
  {
   "cell_type": "code",
   "execution_count": null,
   "id": "4f8f5a6d-c3a8-4bc4-8c06-f8ec403c3983",
   "metadata": {},
   "outputs": [],
   "source": [
    "start = cftime.DatetimeNoLeap(1985,1,15)\n",
    "end_prior_eruption = cftime.DatetimeNoLeap(1991,1,15)\n",
    "end = cftime.DatetimeNoLeap(1996,1,15)"
   ]
  },
  {
   "cell_type": "code",
   "execution_count": null,
   "id": "7b6c39d5-a2b6-4d1a-9bc7-86e7d95bb168",
   "metadata": {},
   "outputs": [],
   "source": [
    "ds2_so4=ds_so4.mean('lon')\n",
    "north_avrg = computeWeightedMean(ds_so4.where(ds_so4['lat']>60.)).compute()\n",
    "dso4_s = north_avrg.sel(time=slice(start,end))"
   ]
  },
  {
   "cell_type": "code",
   "execution_count": null,
   "id": "5db05ce3-8373-414f-bece-66a758122a41",
   "metadata": {},
   "outputs": [],
   "source": [
    "annual_mean = dso4_s.groupby('time.year').mean('time')\n",
    "\n",
    "annual_means= annual_mean.isel(lev=slice(0,-20))\n",
    "annual_means;"
   ]
  },
  {
   "cell_type": "code",
   "execution_count": null,
   "id": "e4a94f0d-c423-4993-9eda-69ac6aa7b5d7",
   "metadata": {},
   "outputs": [],
   "source": [
    "#Plotting to find the layer where the SO4 aerosol has its max, and when\n",
    "fig, (axs1) = plt.subplots(1, 1, constrained_layout=True, figsize=(20,10))\n",
    "\n",
    "annual_means.plot(label=\"NorESM 14\", ax=axs1,x='year')\n",
    "\n",
    "fig.suptitle('so4\\n', fontsize=20)\n",
    "\n",
    "axs1.set_xlabel('Year',fontsize=20)\n",
    "\n",
    "axs1.grid()\n",
    "\n",
    "plt.gca().invert_yaxis()\n",
    "\n",
    "axs1.set_title(\" Northern Hemisphere \\n\" , fontsize=15)\n",
    "\n",
    "plt.legend(fontsize=25)\n"
   ]
  },
  {
   "cell_type": "code",
   "execution_count": null,
   "id": "09086f22-158f-447b-8b17-bee718697d71",
   "metadata": {},
   "outputs": [],
   "source": [
    "annual_means"
   ]
  },
  {
   "cell_type": "code",
   "execution_count": null,
   "id": "50197978-6bc4-4eaa-8bb0-e042c7b513af",
   "metadata": {},
   "outputs": [],
   "source": []
  }
 ],
 "metadata": {
  "kernelspec": {
   "display_name": "Python 3 (ipykernel)",
   "language": "python",
   "name": "python3"
  },
  "language_info": {
   "codemirror_mode": {
    "name": "ipython",
    "version": 3
   },
   "file_extension": ".py",
   "mimetype": "text/x-python",
   "name": "python",
   "nbconvert_exporter": "python",
   "pygments_lexer": "ipython3",
   "version": "3.9.13"
  }
 },
 "nbformat": 4,
 "nbformat_minor": 5
}
