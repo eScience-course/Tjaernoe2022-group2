{
 "cells": [
  {
   "cell_type": "markdown",
   "metadata": {},
   "source": [
    "# The notebook with all the shit"
   ]
  },
  {
   "cell_type": "markdown",
   "metadata": {},
   "source": [
    "## Import python packages"
   ]
  },
  {
   "cell_type": "code",
   "execution_count": 1,
   "metadata": {},
   "outputs": [],
   "source": [
    "import xarray as xr\n",
    "xr.set_options(display_style='html')\n",
    "import intake\n",
    "import cftime\n",
    "import matplotlib.pyplot as plt\n",
    "import cartopy.crs as ccrs\n",
    "import numpy as np\n",
    "%matplotlib inline"
   ]
  },
  {
   "cell_type": "markdown",
   "metadata": {},
   "source": [
    "## Reading file from bucket"
   ]
  },
  {
   "cell_type": "code",
   "execution_count": 2,
   "metadata": {},
   "outputs": [
    {
     "data": {
      "text/plain": [
       "['escience2022/Ada',\n",
       " 'escience2022/Antoine',\n",
       " 'escience2022/Dominic',\n",
       " 'escience2022/ESA_SMOS_sss',\n",
       " 'escience2022/Remy',\n",
       " 'escience2022/Sara',\n",
       " 'escience2022/Zhihong']"
      ]
     },
     "execution_count": 2,
     "metadata": {},
     "output_type": "execute_result"
    }
   ],
   "source": [
    "import s3fs\n",
    "s3 = s3fs.S3FileSystem(key=\"K1CQ7M1DMTLUFK182APD\", \n",
    "                       secret=\"3JuZAQm5I03jtpijCpHOdkAsJDNLNfZxBpM15Pi0\", \n",
    "                       client_kwargs=dict(endpoint_url=\"https://rgw.met.no\"))\n",
    "s3.ls('escience2022')"
   ]
  },
  {
   "cell_type": "code",
   "execution_count": 3,
   "metadata": {},
   "outputs": [],
   "source": [
    "#s3path = \"s3://escience2022/Zhihong/o3_AERmon_GISS-E2-1-G_historical_r1i1p3f1_gn_185001-190012.nc\"\n",
    "# Using cb_O3 because it is cummulative ozone without the levels\n",
    "s3path = 's3://escience2022/Zhihong/NFHISTnorpddmsbc_tropstratchem_f09_mg17_20220105_test14/cb_O3.NFHISTnorpddmsbc_tropstratchem_f09_mg17_20220105_test14.cam.h0.197001-201412.nc'"
   ]
  },
  {
   "cell_type": "code",
   "execution_count": 4,
   "metadata": {},
   "outputs": [],
   "source": [
    "#do = xr.open_dataset(s3.open(s3path))\n",
    "#do"
   ]
  },
  {
   "cell_type": "code",
   "execution_count": null,
   "metadata": {},
   "outputs": [],
   "source": []
  },
  {
   "cell_type": "markdown",
   "metadata": {},
   "source": [
    "### Get metadata corresponding to near-surface air temperature (tas)"
   ]
  },
  {
   "cell_type": "code",
   "execution_count": 5,
   "metadata": {},
   "outputs": [],
   "source": [
    "#print(do['cb_O3'])"
   ]
  },
  {
   "cell_type": "code",
   "execution_count": 6,
   "metadata": {},
   "outputs": [],
   "source": [
    "#do.time.values;"
   ]
  },
  {
   "cell_type": "code",
   "execution_count": 7,
   "metadata": {},
   "outputs": [],
   "source": [
    "#Converting Ozone to Dobson units:\n",
    "#https://sacs.aeronomie.be/info/dobson.php\n",
    "#do['cb_O3']=do['cb_O3']/(2.1415*(10**(-5)))\n",
    "\n",
    "#do"
   ]
  },
  {
   "cell_type": "markdown",
   "metadata": {},
   "source": [
    "### Select time\n",
    "\n",
    "- Select a specific time"
   ]
  },
  {
   "cell_type": "code",
   "execution_count": 8,
   "metadata": {},
   "outputs": [],
   "source": [
    "#do['cb_O3'].sel(time=cftime.DatetimeNoLeap(1970, 7, 1,0,0,0)).plot(cmap = 'coolwarm')"
   ]
  },
  {
   "cell_type": "markdown",
   "metadata": {},
   "source": [
    "- select the nearest time. Here from 1st April 1950"
   ]
  },
  {
   "cell_type": "code",
   "execution_count": 9,
   "metadata": {},
   "outputs": [],
   "source": [
    "#do['cb_O3'].sel(time=cftime.DatetimeNoLeap(1850, 4, 1), method='nearest').plot(x = 'lon',cmap='coolwarm')"
   ]
  },
  {
   "cell_type": "markdown",
   "metadata": {},
   "source": [
    "# Customize plot\n",
    "\n",
    "### Set the size of the figure and add coastlines"
   ]
  },
  {
   "cell_type": "code",
   "execution_count": 10,
   "metadata": {},
   "outputs": [],
   "source": [
    "#fig = plt.figure(1, figsize=[30,13])\n",
    "\n",
    "# Set the projection to use for plotting\n",
    "#ax = plt.subplot(1, 1, 1, projection=ccrs.PlateCarree())\n",
    "#ax.coastlines()\n",
    "\n",
    "# Pass ax as an argument when plotting. Here we assume data is in the same coordinate reference system than the projection chosen for plotting\n",
    "# isel allows to select by indices instead of the time values\n",
    "#do['cb_O3'].isel(time=6).squeeze().plot.pcolormesh(ax=ax, cmap='coolwarm')"
   ]
  },
  {
   "cell_type": "markdown",
   "metadata": {},
   "source": [
    "### Change plotting projection"
   ]
  },
  {
   "cell_type": "code",
   "execution_count": 11,
   "metadata": {},
   "outputs": [],
   "source": [
    "#fig = plt.figure(1, figsize=[10,10])\n",
    "\n",
    "# We're using cartopy and are plotting in Orthographic projection \n",
    "# (see documentation on cartopy)\n",
    "#ax = plt.subplot(1, 1, 1, projection=ccrs.Orthographic(0, 90))\n",
    "#ax.coastlines()\n",
    "\n",
    "# We need to project our data to the new Orthographic projection and for this we use `transform`.\n",
    "# we set the original data projection in transform (here PlateCarree)\n",
    "#do['cb_O3'].isel(time=6).squeeze().plot(ax=ax, transform=ccrs.PlateCarree(), cmap='coolwarm')\n",
    "\n",
    "# One way to customize your title\n",
    "#plt.title(do.time.values[6].strftime(\"%B %Y\"), fontsize=18)"
   ]
  },
  {
   "cell_type": "markdown",
   "metadata": {},
   "source": [
    "### Choose the extent of values\n",
    "- Fix your minimum and maximum values in your plot and\n",
    "- Use extend so values below the minimum and max"
   ]
  },
  {
   "cell_type": "code",
   "execution_count": 12,
   "metadata": {},
   "outputs": [],
   "source": [
    "#fig = plt.figure(1, figsize=[10,10])\n",
    "#\n",
    "#ax = plt.subplot(1, 1, 1, projection=ccrs.Orthographic(0, 90))\n",
    "#ax.coastlines()\n",
    "#\n",
    "##Fix extent\n",
    "#minval = do['cb_O3'].min()\n",
    "#maxval = do['cb_O3'].max()\n",
    "#\n",
    "##pass extent with vmin and vmax parameters\n",
    "#do['cb_O3'].isel(time=6).squeeze().plot(ax=ax, transform=ccrs.PlateCarree(), cmap='coolwarm')\n",
    "#\n",
    "##One way to customize your title\n",
    "#plt.title(do.time.values[6].strftime(\"%B %Y\"), fontsize=18)\n"
   ]
  },
  {
   "cell_type": "code",
   "execution_count": 13,
   "metadata": {},
   "outputs": [
    {
     "ename": "NameError",
     "evalue": "name 'do' is not defined",
     "output_type": "error",
     "traceback": [
      "\u001b[0;31m---------------------------------------------------------------------------\u001b[0m",
      "\u001b[0;31mNameError\u001b[0m                                 Traceback (most recent call last)",
      "Input \u001b[0;32mIn [13]\u001b[0m, in \u001b[0;36m<cell line: 1>\u001b[0;34m()\u001b[0m\n\u001b[0;32m----> 1\u001b[0m \u001b[43mdo\u001b[49m[\u001b[38;5;124m'\u001b[39m\u001b[38;5;124mcb_O3\u001b[39m\u001b[38;5;124m'\u001b[39m]\n",
      "\u001b[0;31mNameError\u001b[0m: name 'do' is not defined"
     ]
    }
   ],
   "source": [
    "do['cb_O3']"
   ]
  },
  {
   "cell_type": "markdown",
   "metadata": {},
   "source": [
    "# Multiplots\n",
    "### Faceting"
   ]
  },
  {
   "cell_type": "code",
   "execution_count": null,
   "metadata": {},
   "outputs": [],
   "source": [
    "proj_plot = ccrs.Orthographic(0, 90)\n",
    "\n",
    "p = do['cb_O3'].sel(time = do.time.dt.year.isin([1986,1987,1988,1989,1990,1991])).squeeze().plot(x='lon', y='lat', \n",
    "                                                                 transform=ccrs.PlateCarree(),\n",
    "                                                                 aspect=do.dims[\"lon\"] / do.dims[\"lat\"],  # for a sensible figsize\n",
    "                                                                 subplot_kws={\"projection\": proj_plot},\n",
    "                                                                 col='time', col_wrap=6, robust=True, cmap='PiYG')\n",
    "# We have to set the map's options on all four axes\n",
    "for ax,i in zip(p.axes.flat,  do.time.sel(time = do.time.dt.year.isin([1986,1987,1988,1989,1990,1991])).values):\n",
    "    ax.coastlines()\n",
    "    ax.set_title(i.strftime(\"%B %Y\"), fontsize=18)"
   ]
  },
  {
   "cell_type": "markdown",
   "metadata": {},
   "source": [
    "### Combine plots with different projections"
   ]
  },
  {
   "cell_type": "code",
   "execution_count": null,
   "metadata": {},
   "outputs": [],
   "source": [
    "#fig = plt.figure(1, figsize=[20,10])\n",
    "\n",
    "# Fix extent\n",
    "#minval = do['cb_O3'].min()\n",
    "#maxval = do['cb_O3'].max()\n",
    "\n",
    "# Plot 1 for Northern Hemisphere subplot argument (nrows, ncols, nplot)\n",
    "# here 1 row, 2 columns and 1st plot\n",
    "#ax1 = plt.subplot(1, 2, 1, projection=ccrs.Orthographic(0, 90))\n",
    "\n",
    "# Plot 2 for Southern Hemisphere\n",
    "# 2nd plot \n",
    "#ax2 = plt.subplot(1, 2, 2, projection=ccrs.Orthographic(180, -90))\n",
    "\n",
    "#tsel = 7\n",
    "#for ax,t in zip([ax1, ax2], [\"Northern\", \"Southern\"]):\n",
    "    #map = do['cb_O3'].isel(time=tsel).squeeze().plot(ax=ax, \n",
    "                                           #transform=ccrs.PlateCarree(), \n",
    "                                           #cmap='coolwarm', \n",
    "                                           #add_colorbar=False)\n",
    "    #ax.set_title(t + \" Hemisphere \\n\" , fontsize=15)\n",
    "    #ax.coastlines()\n",
    "    #ax.gridlines()\n",
    "\n",
    "# Title for both plots\n",
    "#fig.suptitle('O3\\n' + do.time.values[tsel].strftime(\"%B %Y\"), fontsize=20)\n",
    "\n",
    "\n",
    "#cb_ax = fig.add_axes([0.325, 0.05, 0.4, 0.04])\n",
    "\n",
    "#cbar = plt.colorbar(map, cax=cb_ax, extend='both', orientation='horizontal', fraction=0.046, pad=0.04)\n",
    "#cbar.ax.tick_params(labelsize=25)\n",
    "#cbar.ax.set_ylabel('K', fontsize=25)"
   ]
  },
  {
   "cell_type": "code",
   "execution_count": null,
   "metadata": {},
   "outputs": [],
   "source": [
    "#month_length = do.time.dt.days_in_month\n",
    "\n",
    "#wgts = month_length.groupby(\"time.year\") / month_length.groupby(\"time.year\").sum()\n",
    "\n",
    "#np.testing.assert_allclose(wgts.groupby(\"time.year\").sum(xr.ALL_DIMS), 1.0)\n",
    "\n",
    "\n",
    "#da= (do.cb_O3*wgts).groupby('time.year').sum(dim='time')\n",
    "#da"
   ]
  },
  {
   "cell_type": "code",
   "execution_count": null,
   "metadata": {},
   "outputs": [],
   "source": [
    "#doy=do.groupby('time.year').mean('time')\n",
    "#doy\n",
    "\n",
    "\n",
    "\n",
    "\n",
    "#doO3_be=da.sel(lon=1, lat=90, method='nearest').sel(year = da.year.isin([1985,1986,1987,1988,1989,1990,1991]))\n",
    "#doO3_af=da.sel(lon=1, lat=90, method='nearest').sel(year = da.year.isin([1991,1992,1993,1994,1995,1996,1997]))\n",
    "\n",
    "\n",
    "\n",
    "#mean_be=doO3_be.mean()\n",
    "#mean_af=doO3_af.mean()\n",
    "\n",
    "\n",
    "#O3_anomaly_be=mean_be-doO3_be\n",
    "#O3_anomaly_af=mean_af-doO3_af\n",
    "\n",
    "#doO3_be.plot(x='year')\n",
    "#doO3_af.plot(x='year')\n",
    "\n",
    "#plt.legend()\n"
   ]
  },
  {
   "cell_type": "markdown",
   "metadata": {},
   "source": [
    "### Anomaly in weighted aera"
   ]
  },
  {
   "cell_type": "code",
   "execution_count": null,
   "metadata": {},
   "outputs": [],
   "source": [
    "def computeWeightedMean(ds):\n",
    "    # Compute weights based on the xarray you pass\n",
    "    weights = np.cos(np.deg2rad(ds.lat))\n",
    "    weights.name = \"weights\"\n",
    "    # Compute weighted mean\n",
    "    air_weighted = ds.weighted(weights)\n",
    "    weighted_mean = air_weighted.mean((\"lon\", \"lat\"))\n",
    "    return weighted_mean"
   ]
  },
  {
   "cell_type": "code",
   "execution_count": null,
   "metadata": {},
   "outputs": [],
   "source": [
    "def mean_plot_doub(data,data2):\n",
    "    #Funftion that calculated weighted means, anomalies and plots it.\n",
    "    #Reads in two datasets\n",
    "\n",
    "    #Selecting time period in datasets\n",
    "    ds = data.sel(time=slice(start,end))\n",
    "    ds2 = data2.sel(time=slice(start,end))\n",
    "    \n",
    "    #Claculating climatology, annual mean and anomaly\n",
    "    climatology = ds.sel(time=slice(start, end_prior_eruption)).groupby('time.year').mean('time',keep_attrs=True).mean('year')\n",
    "    annual_mean = ds.groupby('time.year').mean('time')\n",
    "    anom=annual_mean-climatology\n",
    "    \n",
    "    climatology2 = ds2.sel(time=slice(start, end_prior_eruption)).groupby('time.year').mean('time',keep_attrs=True).mean('year')\n",
    "    annual_mean2 = ds2.groupby('time.year').mean('time')\n",
    "    anom2=annual_mean2-climatology2\n",
    "    \n",
    "    #Computing the weighted mean for different regions\n",
    "    north_anomaly = computeWeightedMean(anom.where(anom['lat']>60.)).compute()\n",
    "    south_anomaly = computeWeightedMean(anom.where(anom['lat']<-60.)).compute()\n",
    "    global_anomaly= computeWeightedMean(anom).compute()\n",
    "    \n",
    "    north_anomaly2 = computeWeightedMean(anom2.where(anom2['lat']>60.)).compute()\n",
    "    south_anomaly2 = computeWeightedMean(anom2.where(anom2['lat']<-60.)).compute()\n",
    "    global_anomaly2= computeWeightedMean(anom2).compute()\n",
    "    \n",
    "    \n",
    "    #Plotting\n",
    "    fig, (axs1, axs2, axs3) = plt.subplots(1, 3, constrained_layout=True, figsize=(20,10))\n",
    "\n",
    "    north_anomaly.plot(label=\"NorESM 14\", ax=axs1)\n",
    "    north_anomaly2.plot(label='NorESM 16', ax=axs1)\n",
    "    \n",
    "    south_anomaly.plot(label=\"NorESM 14\", ax=axs2)\n",
    "    south_anomaly2.plot(label='NorESM 16', ax=axs2)\n",
    "    \n",
    "    global_anomaly.plot(label=\"NorESM 14\",ax=axs3)\n",
    "    global_anomaly2.plot(label='NorESM 16', ax=axs3)\n",
    "\n",
    "    fig.suptitle('Total Ozone column\\n', fontsize=20)\n",
    "\n",
    "    axs1.set_xlabel('Year',fontsize=20)\n",
    "    axs2.set_xlabel('Year',fontsize=20)\n",
    "    axs3.set_xlabel('Year',fontsize=20)\n",
    "    #axs1.tick_params(fontsize=20)\n",
    "\n",
    "    axs1.grid()\n",
    "    axs2.grid()\n",
    "    axs3.grid()\n",
    "\n",
    "    axs1.set_title(\" Northern Hemisphere \\n\" , fontsize=15)\n",
    "    axs2.set_title(\" Southern Hemisphere \\n\" , fontsize=15)\n",
    "    axs3.set_title('Global Mean \\n', fontsize=15)\n",
    "    plt.legend(fontsize=25)\n",
    "   "
   ]
  },
  {
   "cell_type": "code",
   "execution_count": null,
   "metadata": {},
   "outputs": [],
   "source": [
    "def mean_plot_sing(data):\n",
    "    #Funftion that calculated weighted means, anomalies and plots it\n",
    "    #Reads in only one dataset\n",
    "\n",
    "    #Selecting time period in datasets\n",
    "    ds = data.sel(time=slice(start,end))\n",
    "    \n",
    "    #Claculating climatology, annual mean and anomaly\n",
    "    climatology = ds.sel(time=slice(start, end_prior_eruption)).groupby('time.year').mean('time',keep_attrs=True).mean('year')\n",
    "    annual_mean = ds.groupby('time.year').mean('time')\n",
    "    anom=annual_mean-climatology\n",
    "       \n",
    "    #Computing the weighted mean for different regions\n",
    "    north_anomaly = computeWeightedMean(anom.where(anom['lat']>60.)).compute()\n",
    "    south_anomaly = computeWeightedMean(anom.where(anom['lat']<-60.)).compute()\n",
    "    global_anomaly= computeWeightedMean(anom).compute()\n",
    "    \n",
    "    #Plotting\n",
    "    fig, (axs1, axs2, axs3) = plt.subplots(1, 3, constrained_layout=True, figsize=(20,10))\n",
    "\n",
    "    north_anomaly.plot(label=\"NorESM 14\", ax=axs1)\n",
    "    \n",
    "    south_anomaly.plot(label=\"NorESM 14\", ax=axs2)\n",
    "    \n",
    "    global_anomaly.plot(label=\"NorESM 14\",ax=axs3)\n",
    "\n",
    "    fig.suptitle('Total Ozone column\\n', fontsize=20)\n",
    "\n",
    "    axs1.set_xlabel('Year',fontsize=20)\n",
    "    axs2.set_xlabel('Year',fontsize=20)\n",
    "    axs3.set_xlabel('Year',fontsize=20)\n",
    "    #axs1.tick_params(fontsize=20)\n",
    "    \n",
    "    axs1.grid()\n",
    "    axs2.grid()\n",
    "    axs3.grid()\n",
    "\n",
    "    axs1.set_title(\" Northern Hemisphere \\n\" , fontsize=15)\n",
    "    axs2.set_title(\" Southern Hemisphere \\n\" , fontsize=15)\n",
    "    axs3.set_title('Global Mean \\n', fontsize=15)\n",
    "    plt.legend(fontsize=25)\n",
    "   "
   ]
  },
  {
   "cell_type": "code",
   "execution_count": null,
   "metadata": {},
   "outputs": [],
   "source": [
    "def forcing_plot(data):\n",
    "    df = data.sel(time=slice(start,end))\n",
    "    \n",
    "    north = computeWeightedMean(df.where(df['lat']>60.)).compute()\n",
    "    south = computeWeightedMean(df.where(df['lat']<-60.)).compute()\n",
    "    global_f= computeWeightedMean(df).compute()\n",
    "\n",
    "    fig, (axs1, axs2, axs3) = plt.subplots(1, 3, constrained_layout=True, figsize=(20,10))\n",
    "\n",
    "    north.plot(label=\"NorESM\", ax=axs1)\n",
    "\n",
    "    south.plot(label=\"NorESM\", ax=axs2)\n",
    "\n",
    "    global_f.plot(label=\"NorESM\",ax=axs3)\n",
    "\n",
    "    fig.suptitle('SO4\\n', fontsize=20)\n",
    "\n",
    "    axs1.grid()\n",
    "    axs2.grid()\n",
    "    axs3.grid()\n",
    "\n",
    "\n",
    "    axs1.set_title(\" Northern Hemisphere \\n\" , fontsize=15)\n",
    "    axs2.set_title(\" Southern Hemisphere \\n\" , fontsize=15)\n",
    "    axs3.set_title('Globam Mean \\n', fontsize=15)\n",
    "    plt.legend(fontsize=25)"
   ]
  },
  {
   "cell_type": "markdown",
   "metadata": {},
   "source": [
    "## CODE"
   ]
  },
  {
   "cell_type": "code",
   "execution_count": null,
   "metadata": {},
   "outputs": [],
   "source": [
    "#Reading in ozone data from experiment 16\n",
    "s6path = 's3://escience2022/Zhihong/NFHISTnorpddmsbc_tropstratchem_f09_mg17_20220105_test16/cb_O3.NFHISTnorpddmsbc_tropstratchem_f09_mg17_20220105_test16.cam.h0.197001-201412.nc'\n",
    "d2 = xr.open_dataset(s3.open(s6path))\n",
    "d2.time.values;\n",
    "ds2=d2['cb_O3']/(2.1415*(10**(-5)))"
   ]
  },
  {
   "cell_type": "code",
   "execution_count": null,
   "metadata": {},
   "outputs": [],
   "source": [
    "#Data from experiment 14\n",
    "do = xr.open_dataset(s3.open(s3path))\n",
    "do.time.values;\n",
    "ds=do['cb_O3']/(2.1415*(10**(-5)))\n",
    "#assign_attrs({'units': '$^\\circ$C'})\n",
    "\n",
    "#ds"
   ]
  },
  {
   "cell_type": "code",
   "execution_count": null,
   "metadata": {},
   "outputs": [],
   "source": [
    "start = cftime.DatetimeNoLeap(1985,1,15)\n",
    "end_prior_eruption = cftime.DatetimeNoLeap(1991,1,15)\n",
    "end = cftime.DatetimeNoLeap(1996,1,15)\n",
    "\n",
    "mean_plot_doub(ds,ds2)"
   ]
  },
  {
   "cell_type": "code",
   "execution_count": null,
   "metadata": {},
   "outputs": [],
   "source": [
    "#n_diff = computeWeightedMean(difference.where(difference['lat']>60.)).compute()\n",
    "#s_diff = computeWeightedMean(difference.where(difference['lat']<-60.)).compute()\n",
    "#g_diff= computeWeightedMean(difference).compute()"
   ]
  },
  {
   "cell_type": "code",
   "execution_count": null,
   "metadata": {},
   "outputs": [],
   "source": [
    "#fig, (axs1, axs2, axs3) = plt.subplots(1, 3, constrained_layout=True, figsize=(20,10))\n",
    "#\n",
    "##w_m_w_n_anomaly.sel(time=slice(start,end)).plot(label=\"CAM\", ax=axs1)\n",
    "#n_diff.plot(label=\"NorESM\", ax=axs1)\n",
    "##weighted_mean_waccm.sel(time=slice(start,end)).plot(label=\"WACCM-org\", ax=axs1)\n",
    "#\n",
    "##w_m_w_south_anomaly.sel(time=slice(start,end)).plot(label=\"CAM\", ax=axs2)\n",
    "#s_diff.plot(label=\"NorESM\", ax=axs2)\n",
    "##weighted_mean_waccm_south.sel(time=slice(start,end)).plot(label=\"WACCM-org\", ax=axs2)\n",
    "#\n",
    "#g_diff.plot(label=\"NorESM\",ax=axs3)\n",
    "#\n",
    "#fig.suptitle('Total Ozone column\\n', fontsize=20)\n",
    "#\n",
    "#axs1.set_title(\" Northern Hemisphere \\n\" , fontsize=15)\n",
    "#axs2.set_title(\" Southern Hemisphere \\n\" , fontsize=15)\n",
    "#axs3.set_title('Globam Mean \\n', fontsize=15)\n",
    "#plt.legend(fontsize=25)"
   ]
  },
  {
   "cell_type": "code",
   "execution_count": null,
   "metadata": {},
   "outputs": [],
   "source": [
    "#Reading in temp data from experiment 14\n",
    "s7path = 's3://escience2022/Zhihong/NFHISTnorpddmsbc_tropstratchem_f09_mg17_20220105_test14/T.NFHISTnorpddmsbc_tropstratchem_f09_mg17_20220105_test14.cam.h0.197001-201412.nc'\n",
    "dt = xr.open_dataset(s3.open(s7path))\n",
    "dt.time.values;\n",
    "dtt=dt['T'].isel(lev=-1)"
   ]
  },
  {
   "cell_type": "code",
   "execution_count": null,
   "metadata": {},
   "outputs": [],
   "source": [
    "mean_dt=dtt.drop('lev')"
   ]
  },
  {
   "cell_type": "code",
   "execution_count": null,
   "metadata": {},
   "outputs": [],
   "source": [
    "start = cftime.DatetimeNoLeap(1985,1,15)\n",
    "end_prior_eruption = cftime.DatetimeNoLeap(1991,1,15)\n",
    "end = cftime.DatetimeNoLeap(1996,1,15)\n",
    "\n",
    "mean_plot_sing(mean_dt)\n"
   ]
  },
  {
   "cell_type": "markdown",
   "metadata": {},
   "source": [
    "### Sulfate\n"
   ]
  },
  {
   "cell_type": "code",
   "execution_count": null,
   "metadata": {},
   "outputs": [],
   "source": [
    "s4path = 's3://escience2022/Zhihong/NFHISTnorpddmsbc_tropstratchem_f09_mg17_20220105_test14/cb_SULFATE.NFHISTnorpddmsbc_tropstratchem_f09_mg17_20220105_test14.cam.h0.197001-201412.nc'\n",
    "du = xr.open_dataset(s3.open(s4path))\n",
    "du.time.values;"
   ]
  },
  {
   "cell_type": "code",
   "execution_count": null,
   "metadata": {},
   "outputs": [],
   "source": [
    "du['cb_SULFATE'].sel(time=cftime.DatetimeNoLeap(1991, 8, 1,0,0,0)).plot(cmap = 'coolwarm')"
   ]
  },
  {
   "cell_type": "code",
   "execution_count": null,
   "metadata": {},
   "outputs": [],
   "source": [
    "s5path = 's3://escience2022/Zhihong/NFHISTnorpddmsbc_tropstratchem_f09_mg17_20220105_test14/D550_SO4.NFHISTnorpddmsbc_tropstratchem_f09_mg17_20220105_test14.cam.h0.197001-201412.nc'\n",
    "da = xr.open_dataset(s3.open(s5path))\n",
    "dr = da['D550_SO4']\n",
    "dr;\n"
   ]
  },
  {
   "cell_type": "code",
   "execution_count": null,
   "metadata": {},
   "outputs": [],
   "source": [
    "start = cftime.DatetimeNoLeap(1985,1,15)\n",
    "end_prior_eruption = cftime.DatetimeNoLeap(1991,1,15)\n",
    "end = cftime.DatetimeNoLeap(1996,1,15)\n",
    "\n",
    "forcing_plot(dr)"
   ]
  },
  {
   "cell_type": "markdown",
   "metadata": {},
   "source": [
    "## Looking into data from around Krakatao"
   ]
  },
  {
   "cell_type": "code",
   "execution_count": null,
   "metadata": {
    "tags": []
   },
   "outputs": [],
   "source": [
    "#Reading in ozone data from historical\n",
    "his_path = 's3://escience2022/Zhihong/NHISTvsls/cb_O3.NHISTvsls_tropstratchem_prep_f09_nt14_20220223_test01.cam.h0.185001-189912.nc'\n",
    "dh = xr.open_dataset(s3.open(his_path))\n",
    "dh.time.values;\n",
    "dh2=dh['cb_O3']/(2.1415*(10**(-5)))\n",
    "dh2;\n"
   ]
  },
  {
   "cell_type": "code",
   "execution_count": null,
   "metadata": {},
   "outputs": [],
   "source": [
    "start = cftime.DatetimeNoLeap(1877,1,15)\n",
    "end_prior_eruption = cftime.DatetimeNoLeap(1883,1,15)\n",
    "end = cftime.DatetimeNoLeap(1888,1,15)\n",
    "\n",
    "mean_plot_sing(dh2)"
   ]
  },
  {
   "cell_type": "markdown",
   "metadata": {},
   "source": [
    "# Forcing\n"
   ]
  },
  {
   "cell_type": "code",
   "execution_count": null,
   "metadata": {},
   "outputs": [],
   "source": [
    "#Reading in aod data from historical\n",
    "his_path_f = 's3://escience2022/Zhihong/NHISTvsls/D550_SO4.NHISTvsls_tropstratchem_prep_f09_nt14_20220223_test01.cam.h0.185001-189912.nc'\n",
    "df = xr.open_dataset(s3.open(his_path_f))\n",
    "df.time.values;\n",
    "df2=df['D550_SO4']"
   ]
  },
  {
   "cell_type": "code",
   "execution_count": null,
   "metadata": {},
   "outputs": [],
   "source": [
    "start = cftime.DatetimeNoLeap(1880,1,15)\n",
    "end_prior_eruption = cftime.DatetimeNoLeap(1883,1,15)\n",
    "end = cftime.DatetimeNoLeap(1895,1,15)\n",
    "\n",
    "forcing_plot(df2)"
   ]
  },
  {
   "cell_type": "markdown",
   "metadata": {},
   "source": [
    "## Layers and forcing"
   ]
  },
  {
   "cell_type": "code",
   "execution_count": null,
   "metadata": {},
   "outputs": [],
   "source": [
    "#Reading in SO4 layer data from historical\n",
    "so4_l = 's3://escience2022/Zhihong/NHISTvsls/mmr_SULFATE.NHISTvsls_tropstratchem_prep_f09_nt14_20220223_test01.cam.h0.185001-189912.nc'\n",
    "d4 = xr.open_dataset(s3.open(so4_l))\n",
    "d4.time.values;\n",
    "dso4=d4['mmr_SULFATE']\n",
    "dso4_2=d4['mmr_SULFATE']"
   ]
  },
  {
   "cell_type": "code",
   "execution_count": null,
   "metadata": {},
   "outputs": [],
   "source": [
    "start = cftime.DatetimeNoLeap(1880,1,15)\n",
    "end_prior_eruption = cftime.DatetimeNoLeap(1883,1,15)\n",
    "end = cftime.DatetimeNoLeap(1895,1,15)\n",
    "forcing_plot(dso4)"
   ]
  },
  {
   "cell_type": "code",
   "execution_count": null,
   "metadata": {},
   "outputs": [],
   "source": [
    "dso4.mean('lon')\n",
    "north_anomaly = computeWeightedMean(dso4.where(dso4['lat']>60.)).compute()\n",
    "start = cftime.DatetimeNoLeap(1880,1,15)\n",
    "end_prior_eruption = cftime.DatetimeNoLeap(1883,1,15)\n",
    "end = cftime.DatetimeNoLeap(1895,1,15)\n",
    "\n",
    "dso4_s = north_anomaly.sel(time=slice(start,end))"
   ]
  },
  {
   "cell_type": "code",
   "execution_count": null,
   "metadata": {},
   "outputs": [],
   "source": [
    "#start = cftime.DatetimeNoLeap(1880,1,15)\n",
    "#end_prior_eruption = cftime.DatetimeNoLeap(1883,1,15)\n",
    "#end = cftime.DatetimeNoLeap(1895,1,15)\n",
    "\n",
    "annual_mean = dso4_s.groupby('time.year').mean('time')\n",
    "\n",
    "annual_means= annual_mean.isel(lev=slice(0,-20))\n",
    "annual_means;"
   ]
  },
  {
   "cell_type": "code",
   "execution_count": null,
   "metadata": {},
   "outputs": [],
   "source": [
    "#Plotting\n",
    "fig, (axs1) = plt.subplots(1, 1, constrained_layout=True, figsize=(20,10))\n",
    "\n",
    "annual_means.plot(label=\"NorESM 14\", ax=axs1,x='year')\n",
    "\n",
    "#south_anomaly.plot(label=\"NorESM 14\", ax=axs2)\n",
    "\n",
    "#global_anomaly.plot(label=\"NorESM 14\",ax=axs3)\n",
    "\n",
    "fig.suptitle('so4\\n', fontsize=20)\n",
    "\n",
    "axs1.set_xlabel('Year',fontsize=20)\n",
    "#axs2.set_xlabel('Year',fontsize=20)\n",
    "#axs3.set_xlabel('Year',fontsize=20)\n",
    "#axs1.tick_params(fontsize=20)\n",
    "\n",
    "axs1.grid()\n",
    "#axs2.grid()\n",
    "#axs3.grid()\n",
    "\n",
    "plt.gca().invert_yaxis()\n",
    "\n",
    "axs1.set_title(\" Northern Hemisphere \\n\" , fontsize=15)\n",
    "#axs2.set_title(\" Southern Hemisphere \\n\" , fontsize=15)\n",
    "#axs3.set_title('Global Mean \\n', fontsize=15)\n",
    "plt.legend(fontsize=25)\n"
   ]
  },
  {
   "cell_type": "code",
   "execution_count": null,
   "metadata": {},
   "outputs": [],
   "source": [
    "dso4_2.sel(time=cftime.DatetimeNoLeap(1884, 1, 1), method='nearest').sel(lev=24, method='nearest').plot(x = 'lon',cmap='coolwarm')"
   ]
  },
  {
   "cell_type": "code",
   "execution_count": null,
   "metadata": {},
   "outputs": [],
   "source": [
    "dso4_3=dso4_2.sel(lev=24, method='nearest').drop('lev')\n",
    "dso4_3.time.values;\n",
    "dso4_3"
   ]
  },
  {
   "cell_type": "code",
   "execution_count": null,
   "metadata": {},
   "outputs": [],
   "source": [
    "proj_plot = ccrs.Robinson(central_longitude=0, globe=None)\n",
    "\n",
    "p = dso4_3.sel(time = dso4_3.time.dt.year.isin([1884])).squeeze().plot(x='lon', y='lat', \n",
    "                                                                 transform=ccrs.PlateCarree(),\n",
    "                                                                 #aspect=dso4_3.dims[\"lon\"] / dso4_3.dims[\"lat\"],  # for a sensible figsize\n",
    "                                                                 subplot_kws={\"projection\": proj_plot},\n",
    "                                                                 col='time', col_wrap=4, robust=True, cmap='PiYG')\n",
    "# We have to set the map's options on all four axes\n",
    "for ax,i in zip(p.axes.flat,  dso4_3.time.sel(time = dso4_3.time.dt.year.isin([1884])).values):\n",
    "    ax.coastlines()\n",
    "    ax.set_title(i.strftime(\"%B %Y\"), fontsize=18)"
   ]
  },
  {
   "cell_type": "code",
   "execution_count": null,
   "metadata": {},
   "outputs": [],
   "source": [
    "#Reading in SO4 layer data from historical\n",
    "o3_l = 's3://escience2022/Zhihong/NHISTvsls/O3.NHISTvsls_tropstratchem_prep_f09_nt14_20220223_test01.cam.h0.185001-189912.nc'\n",
    "o3_l2 = xr.open_dataset(s3.open(o3_l))\n",
    "o3_l2.time.values;\n",
    "ds_o3=o3_l2['O3']"
   ]
  },
  {
   "cell_type": "code",
   "execution_count": null,
   "metadata": {},
   "outputs": [],
   "source": [
    "ds_o3.mean('lon')\n",
    "north_anomaly = computeWeightedMean(ds_o3.where(ds_o3['lat']>60.)).compute()\n",
    "start = cftime.DatetimeNoLeap(1880,1,15)\n",
    "end_prior_eruption = cftime.DatetimeNoLeap(1883,1,15)\n",
    "end = cftime.DatetimeNoLeap(1895,1,15)\n",
    "\n",
    "dso3 = north_anomaly.sel(time=slice(start,end))"
   ]
  },
  {
   "cell_type": "code",
   "execution_count": null,
   "metadata": {},
   "outputs": [],
   "source": []
  },
  {
   "cell_type": "code",
   "execution_count": null,
   "metadata": {},
   "outputs": [],
   "source": []
  },
  {
   "cell_type": "code",
   "execution_count": null,
   "metadata": {},
   "outputs": [],
   "source": [
    "proj_plot = ccrs.Robinson(central_longitude=0, globe=None)\n",
    "\n",
    "p = ds_o3.sel(time = ds_o3.time.dt.year.isin([1884])).squeeze().plot(x='lon', y='lat', \n",
    "                                                                 transform=ccrs.PlateCarree(),\n",
    "                                                                 #aspect=dso4_3.dims[\"lon\"] / dso4_3.dims[\"lat\"],  # for a sensible figsize\n",
    "                                                                 subplot_kws={\"projection\": proj_plot},\n",
    "                                                                 col='time', col_wrap=4, robust=True, cmap='PiYG')\n",
    "# We have to set the map's options on all four axes\n",
    "for ax,i in zip(p.axes.flat,  ds_o3.time.sel(time = ds_o3.time.dt.year.isin([1884])).values):\n",
    "    ax.coastlines()\n",
    "    ax.set_title(i.strftime(\"%B %Y\"), fontsize=18)"
   ]
  },
  {
   "cell_type": "code",
   "execution_count": null,
   "metadata": {},
   "outputs": [],
   "source": []
  }
 ],
 "metadata": {
  "kernelspec": {
   "display_name": "Python 3 (ipykernel)",
   "language": "python",
   "name": "python3"
  },
  "language_info": {
   "codemirror_mode": {
    "name": "ipython",
    "version": 3
   },
   "file_extension": ".py",
   "mimetype": "text/x-python",
   "name": "python",
   "nbconvert_exporter": "python",
   "pygments_lexer": "ipython3",
   "version": "3.9.13"
  }
 },
 "nbformat": 4,
 "nbformat_minor": 4
}
